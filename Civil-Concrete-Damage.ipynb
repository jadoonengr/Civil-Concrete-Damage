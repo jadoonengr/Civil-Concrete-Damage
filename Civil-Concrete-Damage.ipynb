{
 "cells": [
  {
   "cell_type": "markdown",
   "metadata": {},
   "source": [
    "# Civil Engineering Machine Learning Project\n",
    "## Damage evaluation of reinforced concrete beams with varying thickness using the acoustic emission technique\n"
   ]
  },
  {
   "cell_type": "markdown",
   "metadata": {},
   "source": [
    "***\n",
    "## 1. Data Extraction"
   ]
  },
  {
   "cell_type": "code",
   "execution_count": 216,
   "metadata": {},
   "outputs": [
    {
     "data": {
      "text/plain": [
       "'\\nCreated on Tue Jul 18 03:12:39 2017\\n\\n@author: Aamir\\n'"
      ]
     },
     "execution_count": 216,
     "metadata": {},
     "output_type": "execute_result"
    }
   ],
   "source": [
    "\"\"\"\n",
    "Created on Tue Jul 18 03:12:39 2017\n",
    "\n",
    "@author: Aamir\n",
    "\"\"\""
   ]
  },
  {
   "cell_type": "markdown",
   "metadata": {},
   "source": [
    "### Import Libraries"
   ]
  },
  {
   "cell_type": "code",
   "execution_count": 217,
   "metadata": {},
   "outputs": [],
   "source": [
    "\n",
    "import os\n",
    "import scipy.io\n",
    "import numpy as np\n",
    "import pandas as pd\n",
    "\n",
    "import keras\n",
    "from keras.layers import Dense\n",
    "from keras.models import Sequential\n",
    "from keras.models import load_model\n",
    "from keras.optimizers import SGD\n",
    "from keras.callbacks import EarlyStopping\n",
    "\n",
    "from sklearn.model_selection import train_test_split\n",
    "from sklearn.model_selection import StratifiedKFold\n",
    "\n",
    "from IPython.display import SVG\n",
    "import matplotlib.pyplot as plt"
   ]
  },
  {
   "cell_type": "code",
   "execution_count": 218,
   "metadata": {},
   "outputs": [],
   "source": [
    "# fix random seed for reproducibility\n",
    "seed = 7\n",
    "np.random.seed(seed)"
   ]
  },
  {
   "cell_type": "markdown",
   "metadata": {},
   "source": [
    "### Import and select relevant data "
   ]
  },
  {
   "cell_type": "code",
   "execution_count": 219,
   "metadata": {
    "collapsed": true
   },
   "outputs": [],
   "source": [
    "data = pd.read_excel(\"concrete-damage-data.xlsx\")\n",
    "data = data.iloc[:,[4, 5, 6, 7, 8, 9, 10, 17, 18, 19]]\n",
    "data = data.dropna()\n",
    "data.reset_index(drop=True,inplace=True)"
   ]
  },
  {
   "cell_type": "markdown",
   "metadata": {},
   "source": [
    "### Check data frame structure "
   ]
  },
  {
   "cell_type": "code",
   "execution_count": 220,
   "metadata": {},
   "outputs": [
    {
     "data": {
      "text/plain": [
       "(82873, 10)"
      ]
     },
     "execution_count": 220,
     "metadata": {},
     "output_type": "execute_result"
    }
   ],
   "source": [
    "data.shape"
   ]
  },
  {
   "cell_type": "code",
   "execution_count": 221,
   "metadata": {
    "scrolled": true
   },
   "outputs": [
    {
     "data": {
      "text/plain": [
       "CH              object\n",
       "RISE            object\n",
       "COUN            object\n",
       "ENER            object\n",
       "DURATION        object\n",
       "AMP             object\n",
       "A_FRQ           object\n",
       "SIG_STRNGTH     object\n",
       "ABS_ENERGY      object\n",
       "DAMAGE         float64\n",
       "dtype: object"
      ]
     },
     "execution_count": 221,
     "metadata": {},
     "output_type": "execute_result"
    }
   ],
   "source": [
    "data.dtypes"
   ]
  },
  {
   "cell_type": "code",
   "execution_count": 222,
   "metadata": {},
   "outputs": [
    {
     "data": {
      "text/html": [
       "<div>\n",
       "<style>\n",
       "    .dataframe thead tr:only-child th {\n",
       "        text-align: right;\n",
       "    }\n",
       "\n",
       "    .dataframe thead th {\n",
       "        text-align: left;\n",
       "    }\n",
       "\n",
       "    .dataframe tbody tr th {\n",
       "        vertical-align: top;\n",
       "    }\n",
       "</style>\n",
       "<table border=\"1\" class=\"dataframe\">\n",
       "  <thead>\n",
       "    <tr style=\"text-align: right;\">\n",
       "      <th></th>\n",
       "      <th>CH</th>\n",
       "      <th>RISE</th>\n",
       "      <th>COUN</th>\n",
       "      <th>ENER</th>\n",
       "      <th>DURATION</th>\n",
       "      <th>AMP</th>\n",
       "      <th>A_FRQ</th>\n",
       "      <th>SIG_STRNGTH</th>\n",
       "      <th>ABS_ENERGY</th>\n",
       "      <th>DAMAGE</th>\n",
       "    </tr>\n",
       "  </thead>\n",
       "  <tbody>\n",
       "    <tr>\n",
       "      <th>0</th>\n",
       "      <td>4</td>\n",
       "      <td>9</td>\n",
       "      <td>5</td>\n",
       "      <td>2</td>\n",
       "      <td>114</td>\n",
       "      <td>52</td>\n",
       "      <td>44</td>\n",
       "      <td>14372</td>\n",
       "      <td>260.846</td>\n",
       "      <td>0.0</td>\n",
       "    </tr>\n",
       "    <tr>\n",
       "      <th>1</th>\n",
       "      <td>3</td>\n",
       "      <td>1</td>\n",
       "      <td>1</td>\n",
       "      <td>0</td>\n",
       "      <td>1</td>\n",
       "      <td>45</td>\n",
       "      <td>1000</td>\n",
       "      <td>115.9</td>\n",
       "      <td>2.124</td>\n",
       "      <td>0.0</td>\n",
       "    </tr>\n",
       "    <tr>\n",
       "      <th>2</th>\n",
       "      <td>3</td>\n",
       "      <td>23</td>\n",
       "      <td>3</td>\n",
       "      <td>1</td>\n",
       "      <td>69</td>\n",
       "      <td>48</td>\n",
       "      <td>43</td>\n",
       "      <td>7241</td>\n",
       "      <td>107.876</td>\n",
       "      <td>0.0</td>\n",
       "    </tr>\n",
       "    <tr>\n",
       "      <th>3</th>\n",
       "      <td>4</td>\n",
       "      <td>1</td>\n",
       "      <td>2</td>\n",
       "      <td>1</td>\n",
       "      <td>79</td>\n",
       "      <td>46</td>\n",
       "      <td>25</td>\n",
       "      <td>7024</td>\n",
       "      <td>85.976</td>\n",
       "      <td>0.0</td>\n",
       "    </tr>\n",
       "    <tr>\n",
       "      <th>4</th>\n",
       "      <td>3</td>\n",
       "      <td>22</td>\n",
       "      <td>3</td>\n",
       "      <td>1</td>\n",
       "      <td>86</td>\n",
       "      <td>48</td>\n",
       "      <td>35</td>\n",
       "      <td>9022</td>\n",
       "      <td>133.646</td>\n",
       "      <td>0.0</td>\n",
       "    </tr>\n",
       "  </tbody>\n",
       "</table>\n",
       "</div>"
      ],
      "text/plain": [
       "  CH RISE COUN ENER DURATION AMP A_FRQ SIG_STRNGTH ABS_ENERGY  DAMAGE\n",
       "0  4    9    5    2      114  52    44       14372    260.846     0.0\n",
       "1  3    1    1    0        1  45  1000       115.9      2.124     0.0\n",
       "2  3   23    3    1       69  48    43        7241    107.876     0.0\n",
       "3  4    1    2    1       79  46    25        7024     85.976     0.0\n",
       "4  3   22    3    1       86  48    35        9022    133.646     0.0"
      ]
     },
     "execution_count": 222,
     "metadata": {},
     "output_type": "execute_result"
    }
   ],
   "source": [
    "data.head()"
   ]
  },
  {
   "cell_type": "markdown",
   "metadata": {},
   "source": [
    "***\n",
    "## 2. Data Cleaning\n",
    "### Check and fill missing values "
   ]
  },
  {
   "cell_type": "code",
   "execution_count": 223,
   "metadata": {},
   "outputs": [
    {
     "data": {
      "text/plain": [
       "CH             82873\n",
       "RISE           82873\n",
       "COUN           82873\n",
       "ENER           82873\n",
       "DURATION       82873\n",
       "AMP            82873\n",
       "A_FRQ          82873\n",
       "SIG_STRNGTH    82873\n",
       "ABS_ENERGY     82873\n",
       "DAMAGE         82873\n",
       "dtype: int64"
      ]
     },
     "execution_count": 223,
     "metadata": {},
     "output_type": "execute_result"
    }
   ],
   "source": [
    "data.count()"
   ]
  },
  {
   "cell_type": "markdown",
   "metadata": {},
   "source": [
    "No missing data. Incomplete entries have already been removed."
   ]
  },
  {
   "cell_type": "markdown",
   "metadata": {},
   "source": [
    "### Convert to numeric columns "
   ]
  },
  {
   "cell_type": "code",
   "execution_count": 224,
   "metadata": {},
   "outputs": [
    {
     "data": {
      "text/plain": [
       "CH               int32\n",
       "RISE             int32\n",
       "COUN             int32\n",
       "ENER             int32\n",
       "DURATION         int32\n",
       "AMP              int32\n",
       "A_FRQ            int32\n",
       "SIG_STRNGTH    float64\n",
       "ABS_ENERGY     float64\n",
       "DAMAGE           int32\n",
       "dtype: object"
      ]
     },
     "execution_count": 224,
     "metadata": {},
     "output_type": "execute_result"
    }
   ],
   "source": [
    "data['CH'] = data['CH'].astype(int)\n",
    "data['RISE'] = data['RISE'].astype(int)\n",
    "data['COUN'] = data['COUN'].astype(int)\n",
    "data['ENER'] = data['ENER'].astype(int)\n",
    "data['DURATION'] = data['DURATION'].astype(int)\n",
    "data['AMP'] = data['AMP'].astype(int)\n",
    "data['A_FRQ'] = data['A_FRQ'].astype(int)\n",
    "data['SIG_STRNGTH'] = data['SIG_STRNGTH'].astype(float)\n",
    "data['ABS_ENERGY'] = data['ABS_ENERGY'].astype(float)\n",
    "data['DAMAGE'] = data['DAMAGE'].astype(int)\n",
    "\n",
    "data.dtypes"
   ]
  },
  {
   "cell_type": "code",
   "execution_count": 225,
   "metadata": {
    "collapsed": true
   },
   "outputs": [],
   "source": [
    "data.to_excel(\"Aamirdata.xlsx\")"
   ]
  },
  {
   "cell_type": "code",
   "execution_count": 226,
   "metadata": {},
   "outputs": [
    {
     "data": {
      "text/html": [
       "<div>\n",
       "<style>\n",
       "    .dataframe thead tr:only-child th {\n",
       "        text-align: right;\n",
       "    }\n",
       "\n",
       "    .dataframe thead th {\n",
       "        text-align: left;\n",
       "    }\n",
       "\n",
       "    .dataframe tbody tr th {\n",
       "        vertical-align: top;\n",
       "    }\n",
       "</style>\n",
       "<table border=\"1\" class=\"dataframe\">\n",
       "  <thead>\n",
       "    <tr style=\"text-align: right;\">\n",
       "      <th></th>\n",
       "      <th>CH</th>\n",
       "      <th>RISE</th>\n",
       "      <th>COUN</th>\n",
       "      <th>ENER</th>\n",
       "      <th>DURATION</th>\n",
       "      <th>AMP</th>\n",
       "      <th>A_FRQ</th>\n",
       "      <th>SIG_STRNGTH</th>\n",
       "      <th>ABS_ENERGY</th>\n",
       "      <th>DAMAGE</th>\n",
       "    </tr>\n",
       "  </thead>\n",
       "  <tbody>\n",
       "    <tr>\n",
       "      <th>0</th>\n",
       "      <td>4</td>\n",
       "      <td>9</td>\n",
       "      <td>5</td>\n",
       "      <td>2</td>\n",
       "      <td>114</td>\n",
       "      <td>52</td>\n",
       "      <td>44</td>\n",
       "      <td>14372.0</td>\n",
       "      <td>260.846</td>\n",
       "      <td>0</td>\n",
       "    </tr>\n",
       "    <tr>\n",
       "      <th>1</th>\n",
       "      <td>3</td>\n",
       "      <td>1</td>\n",
       "      <td>1</td>\n",
       "      <td>0</td>\n",
       "      <td>1</td>\n",
       "      <td>45</td>\n",
       "      <td>1000</td>\n",
       "      <td>115.9</td>\n",
       "      <td>2.124</td>\n",
       "      <td>0</td>\n",
       "    </tr>\n",
       "    <tr>\n",
       "      <th>2</th>\n",
       "      <td>3</td>\n",
       "      <td>23</td>\n",
       "      <td>3</td>\n",
       "      <td>1</td>\n",
       "      <td>69</td>\n",
       "      <td>48</td>\n",
       "      <td>43</td>\n",
       "      <td>7241.0</td>\n",
       "      <td>107.876</td>\n",
       "      <td>0</td>\n",
       "    </tr>\n",
       "    <tr>\n",
       "      <th>3</th>\n",
       "      <td>4</td>\n",
       "      <td>1</td>\n",
       "      <td>2</td>\n",
       "      <td>1</td>\n",
       "      <td>79</td>\n",
       "      <td>46</td>\n",
       "      <td>25</td>\n",
       "      <td>7024.0</td>\n",
       "      <td>85.976</td>\n",
       "      <td>0</td>\n",
       "    </tr>\n",
       "    <tr>\n",
       "      <th>4</th>\n",
       "      <td>3</td>\n",
       "      <td>22</td>\n",
       "      <td>3</td>\n",
       "      <td>1</td>\n",
       "      <td>86</td>\n",
       "      <td>48</td>\n",
       "      <td>35</td>\n",
       "      <td>9022.0</td>\n",
       "      <td>133.646</td>\n",
       "      <td>0</td>\n",
       "    </tr>\n",
       "  </tbody>\n",
       "</table>\n",
       "</div>"
      ],
      "text/plain": [
       "   CH  RISE  COUN  ENER  DURATION  AMP  A_FRQ  SIG_STRNGTH  ABS_ENERGY  DAMAGE\n",
       "0   4     9     5     2       114   52     44      14372.0     260.846       0\n",
       "1   3     1     1     0         1   45   1000        115.9       2.124       0\n",
       "2   3    23     3     1        69   48     43       7241.0     107.876       0\n",
       "3   4     1     2     1        79   46     25       7024.0      85.976       0\n",
       "4   3    22     3     1        86   48     35       9022.0     133.646       0"
      ]
     },
     "execution_count": 226,
     "metadata": {},
     "output_type": "execute_result"
    }
   ],
   "source": [
    "data.head()"
   ]
  },
  {
   "cell_type": "markdown",
   "metadata": {},
   "source": [
    "### Normalize Data"
   ]
  },
  {
   "cell_type": "code",
   "execution_count": 227,
   "metadata": {
    "collapsed": true
   },
   "outputs": [],
   "source": [
    "mn = pd.DataFrame.mean(data)\n",
    "vr = pd.DataFrame.var(data)"
   ]
  },
  {
   "cell_type": "code",
   "execution_count": 228,
   "metadata": {
    "collapsed": true
   },
   "outputs": [],
   "source": [
    "data.RISE = (data.RISE - mn.RISE) / vr.RISE\n",
    "data.COUN = (data.COUN - mn.COUN) / vr.COUN\n",
    "data.ENER = (data.ENER - mn.ENER) / vr.ENER\n",
    "data.DURATION = (data.DURATION - mn.DURATION) / vr.DURATION\n",
    "data.AMP = (data.AMP - mn.AMP) / vr.AMP\n",
    "data.A_FRQ = (data.A_FRQ - mn.A_FRQ) / vr.A_FRQ\n",
    "data.SIG_STRNGTH = (data.SIG_STRNGTH - mn.SIG_STRNGTH) / vr.SIG_STRNGTH\n",
    "data.ABS_ENERGY = (data.ABS_ENERGY - mn.ABS_ENERGY) / vr.ABS_ENERGY"
   ]
  },
  {
   "cell_type": "code",
   "execution_count": 229,
   "metadata": {},
   "outputs": [
    {
     "data": {
      "text/html": [
       "<div>\n",
       "<style>\n",
       "    .dataframe thead tr:only-child th {\n",
       "        text-align: right;\n",
       "    }\n",
       "\n",
       "    .dataframe thead th {\n",
       "        text-align: left;\n",
       "    }\n",
       "\n",
       "    .dataframe tbody tr th {\n",
       "        vertical-align: top;\n",
       "    }\n",
       "</style>\n",
       "<table border=\"1\" class=\"dataframe\">\n",
       "  <thead>\n",
       "    <tr style=\"text-align: right;\">\n",
       "      <th></th>\n",
       "      <th>CH</th>\n",
       "      <th>RISE</th>\n",
       "      <th>COUN</th>\n",
       "      <th>ENER</th>\n",
       "      <th>DURATION</th>\n",
       "      <th>AMP</th>\n",
       "      <th>A_FRQ</th>\n",
       "      <th>SIG_STRNGTH</th>\n",
       "      <th>ABS_ENERGY</th>\n",
       "      <th>DAMAGE</th>\n",
       "    </tr>\n",
       "  </thead>\n",
       "  <tbody>\n",
       "    <tr>\n",
       "      <th>82868</th>\n",
       "      <td>3</td>\n",
       "      <td>-0.000109</td>\n",
       "      <td>-0.000480</td>\n",
       "      <td>-0.000426</td>\n",
       "      <td>-0.000020</td>\n",
       "      <td>-0.143455</td>\n",
       "      <td>0.014636</td>\n",
       "      <td>-6.818177e-08</td>\n",
       "      <td>-8.379418e-08</td>\n",
       "      <td>3</td>\n",
       "    </tr>\n",
       "    <tr>\n",
       "      <th>82869</th>\n",
       "      <td>4</td>\n",
       "      <td>-0.000101</td>\n",
       "      <td>-0.000313</td>\n",
       "      <td>-0.000369</td>\n",
       "      <td>-0.000018</td>\n",
       "      <td>0.028976</td>\n",
       "      <td>-0.000870</td>\n",
       "      <td>-5.872238e-08</td>\n",
       "      <td>-8.145447e-08</td>\n",
       "      <td>3</td>\n",
       "    </tr>\n",
       "    <tr>\n",
       "      <th>82870</th>\n",
       "      <td>4</td>\n",
       "      <td>-0.000109</td>\n",
       "      <td>-0.000480</td>\n",
       "      <td>-0.000426</td>\n",
       "      <td>-0.000020</td>\n",
       "      <td>-0.143455</td>\n",
       "      <td>0.014636</td>\n",
       "      <td>-6.885183e-08</td>\n",
       "      <td>-8.384629e-08</td>\n",
       "      <td>3</td>\n",
       "    </tr>\n",
       "    <tr>\n",
       "      <th>82871</th>\n",
       "      <td>3</td>\n",
       "      <td>-0.000109</td>\n",
       "      <td>-0.000480</td>\n",
       "      <td>-0.000426</td>\n",
       "      <td>-0.000020</td>\n",
       "      <td>-0.143455</td>\n",
       "      <td>0.014636</td>\n",
       "      <td>-6.885034e-08</td>\n",
       "      <td>-8.384592e-08</td>\n",
       "      <td>3</td>\n",
       "    </tr>\n",
       "    <tr>\n",
       "      <th>82872</th>\n",
       "      <td>3</td>\n",
       "      <td>-0.000109</td>\n",
       "      <td>-0.000468</td>\n",
       "      <td>-0.000417</td>\n",
       "      <td>-0.000019</td>\n",
       "      <td>-0.091726</td>\n",
       "      <td>-0.001343</td>\n",
       "      <td>-6.687031e-08</td>\n",
       "      <td>-8.360515e-08</td>\n",
       "      <td>3</td>\n",
       "    </tr>\n",
       "  </tbody>\n",
       "</table>\n",
       "</div>"
      ],
      "text/plain": [
       "       CH      RISE      COUN      ENER  DURATION       AMP     A_FRQ  \\\n",
       "82868   3 -0.000109 -0.000480 -0.000426 -0.000020 -0.143455  0.014636   \n",
       "82869   4 -0.000101 -0.000313 -0.000369 -0.000018  0.028976 -0.000870   \n",
       "82870   4 -0.000109 -0.000480 -0.000426 -0.000020 -0.143455  0.014636   \n",
       "82871   3 -0.000109 -0.000480 -0.000426 -0.000020 -0.143455  0.014636   \n",
       "82872   3 -0.000109 -0.000468 -0.000417 -0.000019 -0.091726 -0.001343   \n",
       "\n",
       "        SIG_STRNGTH    ABS_ENERGY  DAMAGE  \n",
       "82868 -6.818177e-08 -8.379418e-08       3  \n",
       "82869 -5.872238e-08 -8.145447e-08       3  \n",
       "82870 -6.885183e-08 -8.384629e-08       3  \n",
       "82871 -6.885034e-08 -8.384592e-08       3  \n",
       "82872 -6.687031e-08 -8.360515e-08       3  "
      ]
     },
     "execution_count": 229,
     "metadata": {},
     "output_type": "execute_result"
    }
   ],
   "source": [
    "data.tail()"
   ]
  },
  {
   "cell_type": "code",
   "execution_count": 230,
   "metadata": {},
   "outputs": [],
   "source": [
    "X = np.array(data.iloc[:,0:9])\n",
    "y = np.eye(4)[data['DAMAGE'].astype(int)]\n",
    "n_cols = X.shape[1]"
   ]
  },
  {
   "cell_type": "code",
   "execution_count": 231,
   "metadata": {},
   "outputs": [
    {
     "data": {
      "text/plain": [
       "9"
      ]
     },
     "execution_count": 231,
     "metadata": {},
     "output_type": "execute_result"
    }
   ],
   "source": [
    "n_cols"
   ]
  },
  {
   "cell_type": "markdown",
   "metadata": {},
   "source": [
    "Split Train/Test Sets"
   ]
  },
  {
   "cell_type": "code",
   "execution_count": 232,
   "metadata": {},
   "outputs": [],
   "source": [
    "X_train, X_test, y_train, y_test = train_test_split(X, y, test_size=0.2, random_state=42)"
   ]
  },
  {
   "cell_type": "code",
   "execution_count": 233,
   "metadata": {},
   "outputs": [
    {
     "data": {
      "text/plain": [
       "((66298, 9), (16575, 9), (66298, 4), (16575, 4))"
      ]
     },
     "execution_count": 233,
     "metadata": {},
     "output_type": "execute_result"
    }
   ],
   "source": [
    "X_train.shape, X_test.shape, y_train.shape, y_test.shape"
   ]
  },
  {
   "cell_type": "markdown",
   "metadata": {},
   "source": [
    "***\n",
    "## 3. Train and Evaluate the Model\n",
    "### Set target, features to train model "
   ]
  },
  {
   "cell_type": "markdown",
   "metadata": {},
   "source": [
    "### Specify the model"
   ]
  },
  {
   "cell_type": "code",
   "execution_count": 234,
   "metadata": {},
   "outputs": [
    {
     "name": "stdout",
     "output_type": "stream",
     "text": [
      "Train on 46408 samples, validate on 19890 samples\n",
      "Epoch 1/100\n",
      "46408/46408 [==============================] - 5s - loss: 0.8837 - acc: 0.4953 - val_loss: 0.8768 - val_acc: 0.5081\n",
      "Epoch 2/100\n",
      "46408/46408 [==============================] - 4s - loss: 0.8648 - acc: 0.5034 - val_loss: 0.8947 - val_acc: 0.4378\n",
      "Epoch 3/100\n",
      "46408/46408 [==============================] - 4s - loss: 0.8629 - acc: 0.5056 - val_loss: 0.8698 - val_acc: 0.5081\n",
      "Epoch 4/100\n",
      "46408/46408 [==============================] - 4s - loss: 0.8620 - acc: 0.5077 - val_loss: 0.8706 - val_acc: 0.5043\n",
      "Epoch 5/100\n",
      "46408/46408 [==============================] - 4s - loss: 0.8605 - acc: 0.5122 - val_loss: 0.8861 - val_acc: 0.4430\n",
      "Epoch 6/100\n",
      "46408/46408 [==============================] - 4s - loss: 0.8598 - acc: 0.5143 - val_loss: 0.8610 - val_acc: 0.5081\n",
      "Epoch 7/100\n",
      "46408/46408 [==============================] - 4s - loss: 0.8583 - acc: 0.5141 - val_loss: 0.9235 - val_acc: 0.4387\n",
      "Epoch 8/100\n",
      "46408/46408 [==============================] - 5s - loss: 0.8577 - acc: 0.5161 - val_loss: 0.8547 - val_acc: 0.5338\n",
      "Epoch 9/100\n",
      "46408/46408 [==============================] - 5s - loss: 0.8561 - acc: 0.5225 - val_loss: 0.8559 - val_acc: 0.5345\n",
      "Epoch 10/100\n",
      "46408/46408 [==============================] - 6s - loss: 0.8562 - acc: 0.5201 - val_loss: 0.8573 - val_acc: 0.5283\n",
      "Epoch 11/100\n",
      "46408/46408 [==============================] - 9s - loss: 0.8558 - acc: 0.5197 - val_loss: 0.8557 - val_acc: 0.5231\n"
     ]
    }
   ],
   "source": [
    "# Specify the model\n",
    "model = Sequential()\n",
    "model.add(Dense(5, activation='relu', input_shape = (n_cols,)))\n",
    "# model.add(Dense(5, activation='relu'))\n",
    "# model.add(Dense(5, activation='relu'))\n",
    "# model.add(Dense(5, activation='relu'))\n",
    "model.add(Dense(5, activation='relu'))\n",
    "model.add(Dense(4, activation='softmax'))\n",
    "\n",
    "early_stopping_monitor = EarlyStopping(patience=2)\n",
    "\n",
    "# Compile the model\n",
    "sgd = SGD(lr=0.1)#, decay=1e-6, momentum=1.9)\n",
    "model.compile(optimizer=sgd, loss='categorical_crossentropy', metrics=['accuracy'])\n",
    "\n",
    "# Fit the model\n",
    "history = model.fit(X_train, y_train, validation_split=0.3, batch_size=64, epochs=100, callbacks=[early_stopping_monitor])\n"
   ]
  },
  {
   "cell_type": "markdown",
   "metadata": {},
   "source": [
    "### Train/Validation Set Evaluation "
   ]
  },
  {
   "cell_type": "code",
   "execution_count": 235,
   "metadata": {},
   "outputs": [
    {
     "data": {
      "image/png": "[encoded data removed]",
      "text/plain": [
       "<matplotlib.figure.Figure at 0x22dfc04c3c8>"
      ]
     },
     "metadata": {},
     "output_type": "display_data"
    }
   ],
   "source": [
    "# summarize history for accuracy\n",
    "plt.plot(history.history['acc'])\n",
    "plt.plot(history.history['val_acc'])\n",
    "plt.title('model accuracy')\n",
    "plt.ylabel('accuracy')\n",
    "plt.xlabel('epoch')\n",
    "plt.legend(['train', 'validation'], loc='upper left')\n",
    "plt.show()"
   ]
  },
  {
   "cell_type": "code",
   "execution_count": 236,
   "metadata": {},
   "outputs": [
    {
     "data": {
      "image/png": "[encoded data removed]",
      "text/plain": [
       "<matplotlib.figure.Figure at 0x22d858900b8>"
      ]
     },
     "metadata": {},
     "output_type": "display_data"
    }
   ],
   "source": [
    "# summarize history for loss\n",
    "plt.plot(history.history['loss'])\n",
    "plt.plot(history.history['val_loss'])\n",
    "plt.title('model loss')\n",
    "plt.ylabel('loss')\n",
    "plt.xlabel('epoch')\n",
    "plt.legend(['train', 'validation'], loc='upper left')\n",
    "plt.show()"
   ]
  },
  {
   "cell_type": "markdown",
   "metadata": {},
   "source": [
    "### Test Set Evaluation"
   ]
  },
  {
   "cell_type": "code",
   "execution_count": 238,
   "metadata": {},
   "outputs": [
    {
     "name": "stdout",
     "output_type": "stream",
     "text": [
      "16512/16575 [============================>.] - ETA: 0s"
     ]
    }
   ],
   "source": [
    "# evaluate the model\n",
    "scores = model.evaluate(X_test, y_test, verbose=1)"
   ]
  },
  {
   "cell_type": "code",
   "execution_count": 243,
   "metadata": {},
   "outputs": [
    {
     "name": "stdout",
     "output_type": "stream",
     "text": [
      "acc: 52.01%\n",
      "loss: 85.12%\n"
     ]
    }
   ],
   "source": [
    "print(\"%s: %.2f%%\" % (model.metrics_names[1], scores[1]*100))\n",
    "print(\"%s: %.2f%%\" % (model.metrics_names[0], scores[0]*100))"
   ]
  },
  {
   "cell_type": "markdown",
   "metadata": {},
   "source": [
    "***\n",
    "## 5. Predict the Test set"
   ]
  },
  {
   "cell_type": "markdown",
   "metadata": {},
   "source": [
    "### Select test model features "
   ]
  },
  {
   "cell_type": "markdown",
   "metadata": {},
   "source": [
    "### Make predictions "
   ]
  },
  {
   "cell_type": "markdown",
   "metadata": {},
   "source": [
    "***\n",
    "## 6. Save Results\n",
    "### Create the Solution "
   ]
  },
  {
   "cell_type": "code",
   "execution_count": null,
   "metadata": {
    "collapsed": true
   },
   "outputs": [],
   "source": [
    "my_solution.index.name"
   ]
  },
  {
   "cell_type": "markdown",
   "metadata": {},
   "source": [
    "### Save to CSV file "
   ]
  },
  {
   "cell_type": "code",
   "execution_count": null,
   "metadata": {
    "collapsed": true
   },
   "outputs": [],
   "source": [
    "my_solution.to_csv(\"my_solution_six.csv\")"
   ]
  },
  {
   "cell_type": "markdown",
   "metadata": {},
   "source": [
    " "
   ]
  },
  {
   "cell_type": "markdown",
   "metadata": {},
   "source": [
    "***\n",
    "***\n",
    "# Rough Work "
   ]
  },
  {
   "cell_type": "code",
   "execution_count": null,
   "metadata": {
    "collapsed": true
   },
   "outputs": [],
   "source": [
    "%matplotlib inline"
   ]
  },
  {
   "cell_type": "code",
   "execution_count": null,
   "metadata": {
    "collapsed": true
   },
   "outputs": [],
   "source": []
  }
 ],
 "metadata": {
  "kernelspec": {
   "display_name": "Python 3",
   "language": "python",
   "name": "python3"
  },
  "language_info": {
   "codemirror_mode": {
    "name": "ipython",
    "version": 3
   },
   "file_extension": ".py",
   "mimetype": "text/x-python",
   "name": "python",
   "nbconvert_exporter": "python",
   "pygments_lexer": "ipython3",
   "version": "3.5.4"
  }
 },
 "nbformat": 4,
 "nbformat_minor": 2
}
