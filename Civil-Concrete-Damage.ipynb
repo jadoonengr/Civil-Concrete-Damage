{
 "cells": [
  {
   "cell_type": "markdown",
   "metadata": {},
   "source": [
    "# Civil Engineering Machine Learning Project\n",
    "## Damage evaluation of reinforced concrete beams with varying thickness using the acoustic emission technique\n"
   ]
  },
  {
   "cell_type": "markdown",
   "metadata": {},
   "source": [
    "***\n",
    "## 1. Data Extraction"
   ]
  },
  {
   "cell_type": "code",
   "execution_count": 431,
   "metadata": {
    "collapsed": true
   },
   "outputs": [],
   "source": [
    "\"\"\"\n",
    "Created on Tue Jul 18 03:12:39 2017\n",
    "\n",
    "@author: Aamir\n",
    "\"\"\"\n",
    "%matplotlib inline"
   ]
  },
  {
   "cell_type": "markdown",
   "metadata": {},
   "source": [
    "### Import Libraries"
   ]
  },
  {
   "cell_type": "code",
   "execution_count": 432,
   "metadata": {},
   "outputs": [],
   "source": [
    "\n",
    "import os\n",
    "import scipy.io\n",
    "import numpy as np\n",
    "import pandas as pd\n",
    "from datetime import datetime\n",
    "\n",
    "import keras\n",
    "from keras.layers import Dense\n",
    "from keras.models import Sequential\n",
    "from keras.models import load_model\n",
    "from keras.optimizers import SGD\n",
    "from keras.callbacks import EarlyStopping\n",
    "\n",
    "from sklearn.model_selection import train_test_split\n",
    "from sklearn.pipeline import make_pipeline\n",
    "from sklearn.ensemble import RandomForestClassifier\n",
    "from sklearn.feature_selection import SelectFromModel\n",
    "from sklearn.feature_selection import SelectKBest\n",
    "from sklearn.model_selection import StratifiedKFold\n",
    "from sklearn.model_selection import GridSearchCV\n",
    "from sklearn.ensemble.gradient_boosting import GradientBoostingClassifier\n",
    "from sklearn.cross_validation import cross_val_score\n",
    "from sklearn.metrics import accuracy_score\n",
    "import xgboost as xgb\n",
    "\n",
    "from IPython.display import SVG\n",
    "import matplotlib.pyplot as plt"
   ]
  },
  {
   "cell_type": "code",
   "execution_count": 433,
   "metadata": {
    "collapsed": true
   },
   "outputs": [],
   "source": [
    "# fix random seed for reproducibility\n",
    "seed = 7\n",
    "np.random.seed(seed)"
   ]
  },
  {
   "cell_type": "markdown",
   "metadata": {},
   "source": [
    "### Import and select relevant data "
   ]
  },
  {
   "cell_type": "code",
   "execution_count": 434,
   "metadata": {},
   "outputs": [],
   "source": [
    "temp1 = pd.read_excel(\"concrete-damage-data.xlsx\")"
   ]
  },
  {
   "cell_type": "code",
   "execution_count": 435,
   "metadata": {
    "collapsed": true
   },
   "outputs": [],
   "source": [
    "temp2 = pd.read_excel(\"Type 1.xlsx\", sheetname=\"B3\")"
   ]
  },
  {
   "cell_type": "code",
   "execution_count": 436,
   "metadata": {},
   "outputs": [
    {
     "data": {
      "text/plain": [
       "((258735, 37), (162644, 19))"
      ]
     },
     "execution_count": 436,
     "metadata": {},
     "output_type": "execute_result"
    }
   ],
   "source": [
    "temp1.shape, temp2.shape"
   ]
  },
  {
   "cell_type": "code",
   "execution_count": 437,
   "metadata": {},
   "outputs": [],
   "source": [
    "#temp1.dtypes, temp2.dtypes"
   ]
  },
  {
   "cell_type": "code",
   "execution_count": 438,
   "metadata": {},
   "outputs": [],
   "source": [
    "train = temp1.iloc[:,0:20]\n",
    "test = temp2.iloc[:,0:20]"
   ]
  },
  {
   "cell_type": "code",
   "execution_count": 439,
   "metadata": {
    "collapsed": true
   },
   "outputs": [],
   "source": [
    "train = train[train.ID!='ID']\n",
    "train.dropna(inplace=True)\n",
    "test = test[test.ID!='ID']\n",
    "test.dropna(inplace=True)"
   ]
  },
  {
   "cell_type": "code",
   "execution_count": 440,
   "metadata": {},
   "outputs": [
    {
     "data": {
      "text/html": [
       "<div>\n",
       "<style>\n",
       "    .dataframe thead tr:only-child th {\n",
       "        text-align: right;\n",
       "    }\n",
       "\n",
       "    .dataframe thead th {\n",
       "        text-align: left;\n",
       "    }\n",
       "\n",
       "    .dataframe tbody tr th {\n",
       "        vertical-align: top;\n",
       "    }\n",
       "</style>\n",
       "<table border=\"1\" class=\"dataframe\">\n",
       "  <thead>\n",
       "    <tr style=\"text-align: right;\">\n",
       "      <th></th>\n",
       "      <th>ID</th>\n",
       "      <th>DDD</th>\n",
       "      <th>HH:MM:SS.mmmuuun</th>\n",
       "      <th>PARA1</th>\n",
       "      <th>CH</th>\n",
       "      <th>RISE</th>\n",
       "      <th>COUN</th>\n",
       "      <th>ENER</th>\n",
       "      <th>DURATION</th>\n",
       "      <th>AMP</th>\n",
       "      <th>A-FRQ</th>\n",
       "      <th>RMS</th>\n",
       "      <th>ASL</th>\n",
       "      <th>PCNTS</th>\n",
       "      <th>THR</th>\n",
       "      <th>R-FRQ</th>\n",
       "      <th>I-FRQ</th>\n",
       "      <th>SIG-STRNGTH</th>\n",
       "      <th>ABS-ENERGY</th>\n",
       "      <th>DAMAGE</th>\n",
       "    </tr>\n",
       "  </thead>\n",
       "  <tbody>\n",
       "    <tr>\n",
       "      <th>3</th>\n",
       "      <td>1</td>\n",
       "      <td>0</td>\n",
       "      <td>00:01:13.212000</td>\n",
       "      <td>0.0143</td>\n",
       "      <td>2</td>\n",
       "      <td>21</td>\n",
       "      <td>4</td>\n",
       "      <td>2</td>\n",
       "      <td>134</td>\n",
       "      <td>51</td>\n",
       "      <td>30</td>\n",
       "      <td>0.0002</td>\n",
       "      <td>13</td>\n",
       "      <td>2</td>\n",
       "      <td>45</td>\n",
       "      <td>17</td>\n",
       "      <td>95</td>\n",
       "      <td>13088</td>\n",
       "      <td>202.701</td>\n",
       "      <td>0.0</td>\n",
       "    </tr>\n",
       "    <tr>\n",
       "      <th>5</th>\n",
       "      <td>1</td>\n",
       "      <td>0</td>\n",
       "      <td>00:01:13.505000</td>\n",
       "      <td>0.0131</td>\n",
       "      <td>4</td>\n",
       "      <td>9</td>\n",
       "      <td>5</td>\n",
       "      <td>2</td>\n",
       "      <td>114</td>\n",
       "      <td>52</td>\n",
       "      <td>44</td>\n",
       "      <td>0.0002</td>\n",
       "      <td>13</td>\n",
       "      <td>1</td>\n",
       "      <td>45</td>\n",
       "      <td>38</td>\n",
       "      <td>111</td>\n",
       "      <td>14372</td>\n",
       "      <td>260.846</td>\n",
       "      <td>0.0</td>\n",
       "    </tr>\n",
       "    <tr>\n",
       "      <th>12</th>\n",
       "      <td>1</td>\n",
       "      <td>0</td>\n",
       "      <td>00:01:14.793000</td>\n",
       "      <td>0.0131</td>\n",
       "      <td>2</td>\n",
       "      <td>1</td>\n",
       "      <td>1</td>\n",
       "      <td>0</td>\n",
       "      <td>2</td>\n",
       "      <td>47</td>\n",
       "      <td>500</td>\n",
       "      <td>0.0002</td>\n",
       "      <td>14</td>\n",
       "      <td>1</td>\n",
       "      <td>45</td>\n",
       "      <td>0</td>\n",
       "      <td>1000</td>\n",
       "      <td>283.65</td>\n",
       "      <td>6.438</td>\n",
       "      <td>0.0</td>\n",
       "    </tr>\n",
       "    <tr>\n",
       "      <th>14</th>\n",
       "      <td>1</td>\n",
       "      <td>0</td>\n",
       "      <td>00:01:14.918000</td>\n",
       "      <td>0.0119</td>\n",
       "      <td>2</td>\n",
       "      <td>1</td>\n",
       "      <td>2</td>\n",
       "      <td>0</td>\n",
       "      <td>55</td>\n",
       "      <td>45</td>\n",
       "      <td>36</td>\n",
       "      <td>0.0002</td>\n",
       "      <td>14</td>\n",
       "      <td>1</td>\n",
       "      <td>45</td>\n",
       "      <td>18</td>\n",
       "      <td>1000</td>\n",
       "      <td>4188</td>\n",
       "      <td>52.109</td>\n",
       "      <td>0.0</td>\n",
       "    </tr>\n",
       "    <tr>\n",
       "      <th>21</th>\n",
       "      <td>1</td>\n",
       "      <td>0</td>\n",
       "      <td>00:01:15.187000</td>\n",
       "      <td>0.0092</td>\n",
       "      <td>2</td>\n",
       "      <td>27</td>\n",
       "      <td>12</td>\n",
       "      <td>8</td>\n",
       "      <td>442</td>\n",
       "      <td>57</td>\n",
       "      <td>27</td>\n",
       "      <td>0.0004</td>\n",
       "      <td>16</td>\n",
       "      <td>2</td>\n",
       "      <td>45</td>\n",
       "      <td>24</td>\n",
       "      <td>74</td>\n",
       "      <td>51280</td>\n",
       "      <td>1296</td>\n",
       "      <td>0.0</td>\n",
       "    </tr>\n",
       "  </tbody>\n",
       "</table>\n",
       "</div>"
      ],
      "text/plain": [
       "   ID DDD HH:MM:SS.mmmuuun   PARA1 CH RISE COUN ENER DURATION AMP A-FRQ  \\\n",
       "3   1   0  00:01:13.212000  0.0143  2   21    4    2      134  51    30   \n",
       "5   1   0  00:01:13.505000  0.0131  4    9    5    2      114  52    44   \n",
       "12  1   0  00:01:14.793000  0.0131  2    1    1    0        2  47   500   \n",
       "14  1   0  00:01:14.918000  0.0119  2    1    2    0       55  45    36   \n",
       "21  1   0  00:01:15.187000  0.0092  2   27   12    8      442  57    27   \n",
       "\n",
       "       RMS ASL PCNTS THR R-FRQ I-FRQ SIG-STRNGTH ABS-ENERGY  DAMAGE  \n",
       "3   0.0002  13     2  45    17    95       13088    202.701     0.0  \n",
       "5   0.0002  13     1  45    38   111       14372    260.846     0.0  \n",
       "12  0.0002  14     1  45     0  1000      283.65      6.438     0.0  \n",
       "14  0.0002  14     1  45    18  1000        4188     52.109     0.0  \n",
       "21  0.0004  16     2  45    24    74       51280       1296     0.0  "
      ]
     },
     "execution_count": 440,
     "metadata": {},
     "output_type": "execute_result"
    }
   ],
   "source": [
    "train.head()"
   ]
  },
  {
   "cell_type": "code",
   "execution_count": 441,
   "metadata": {},
   "outputs": [
    {
     "data": {
      "text/html": [
       "<div>\n",
       "<style>\n",
       "    .dataframe thead tr:only-child th {\n",
       "        text-align: right;\n",
       "    }\n",
       "\n",
       "    .dataframe thead th {\n",
       "        text-align: left;\n",
       "    }\n",
       "\n",
       "    .dataframe tbody tr th {\n",
       "        vertical-align: top;\n",
       "    }\n",
       "</style>\n",
       "<table border=\"1\" class=\"dataframe\">\n",
       "  <thead>\n",
       "    <tr style=\"text-align: right;\">\n",
       "      <th></th>\n",
       "      <th>ID</th>\n",
       "      <th>DDD</th>\n",
       "      <th>HH:MM:SS.mmmuuun</th>\n",
       "      <th>PARA1</th>\n",
       "      <th>CH</th>\n",
       "      <th>RISE</th>\n",
       "      <th>COUN</th>\n",
       "      <th>ENER</th>\n",
       "      <th>DURATION</th>\n",
       "      <th>AMP</th>\n",
       "      <th>A-FRQ</th>\n",
       "      <th>RMS</th>\n",
       "      <th>ASL</th>\n",
       "      <th>PCNTS</th>\n",
       "      <th>THR</th>\n",
       "      <th>R-FRQ</th>\n",
       "      <th>I-FRQ</th>\n",
       "      <th>SIG-STRNGTH</th>\n",
       "      <th>ABS-ENERGY</th>\n",
       "    </tr>\n",
       "  </thead>\n",
       "  <tbody>\n",
       "    <tr>\n",
       "      <th>2</th>\n",
       "      <td>1</td>\n",
       "      <td>0</td>\n",
       "      <td>00:01:15.130000</td>\n",
       "      <td>0.0095</td>\n",
       "      <td>1</td>\n",
       "      <td>99</td>\n",
       "      <td>7</td>\n",
       "      <td>5</td>\n",
       "      <td>296</td>\n",
       "      <td>50</td>\n",
       "      <td>24</td>\n",
       "      <td>0.0004</td>\n",
       "      <td>15</td>\n",
       "      <td>4</td>\n",
       "      <td>45</td>\n",
       "      <td>15</td>\n",
       "      <td>40</td>\n",
       "      <td>35639</td>\n",
       "      <td>644.604</td>\n",
       "    </tr>\n",
       "    <tr>\n",
       "      <th>4</th>\n",
       "      <td>1</td>\n",
       "      <td>0</td>\n",
       "      <td>00:01:15.489000</td>\n",
       "      <td>0.0122</td>\n",
       "      <td>1</td>\n",
       "      <td>81</td>\n",
       "      <td>2</td>\n",
       "      <td>1</td>\n",
       "      <td>134</td>\n",
       "      <td>45</td>\n",
       "      <td>15</td>\n",
       "      <td>0.0004</td>\n",
       "      <td>18</td>\n",
       "      <td>1</td>\n",
       "      <td>45</td>\n",
       "      <td>18</td>\n",
       "      <td>12</td>\n",
       "      <td>8711</td>\n",
       "      <td>86.691</td>\n",
       "    </tr>\n",
       "    <tr>\n",
       "      <th>11</th>\n",
       "      <td>1</td>\n",
       "      <td>0</td>\n",
       "      <td>00:01:16.186000</td>\n",
       "      <td>0.0137</td>\n",
       "      <td>1</td>\n",
       "      <td>1</td>\n",
       "      <td>2</td>\n",
       "      <td>1</td>\n",
       "      <td>93</td>\n",
       "      <td>46</td>\n",
       "      <td>22</td>\n",
       "      <td>0.0002</td>\n",
       "      <td>14</td>\n",
       "      <td>1</td>\n",
       "      <td>45</td>\n",
       "      <td>10</td>\n",
       "      <td>1000</td>\n",
       "      <td>8583</td>\n",
       "      <td>105.235</td>\n",
       "    </tr>\n",
       "    <tr>\n",
       "      <th>18</th>\n",
       "      <td>1</td>\n",
       "      <td>0</td>\n",
       "      <td>00:01:17.331000</td>\n",
       "      <td>0.0134</td>\n",
       "      <td>1</td>\n",
       "      <td>1</td>\n",
       "      <td>1</td>\n",
       "      <td>0</td>\n",
       "      <td>8</td>\n",
       "      <td>48</td>\n",
       "      <td>125</td>\n",
       "      <td>0.0004</td>\n",
       "      <td>15</td>\n",
       "      <td>1</td>\n",
       "      <td>45</td>\n",
       "      <td>0</td>\n",
       "      <td>1000</td>\n",
       "      <td>1302</td>\n",
       "      <td>26.894</td>\n",
       "    </tr>\n",
       "    <tr>\n",
       "      <th>20</th>\n",
       "      <td>1</td>\n",
       "      <td>0</td>\n",
       "      <td>00:01:17.435000</td>\n",
       "      <td>0.0131</td>\n",
       "      <td>1</td>\n",
       "      <td>37</td>\n",
       "      <td>2</td>\n",
       "      <td>0</td>\n",
       "      <td>39</td>\n",
       "      <td>48</td>\n",
       "      <td>51</td>\n",
       "      <td>0.0004</td>\n",
       "      <td>16</td>\n",
       "      <td>2</td>\n",
       "      <td>45</td>\n",
       "      <td>0</td>\n",
       "      <td>54</td>\n",
       "      <td>5158</td>\n",
       "      <td>87.457</td>\n",
       "    </tr>\n",
       "  </tbody>\n",
       "</table>\n",
       "</div>"
      ],
      "text/plain": [
       "   ID DDD HH:MM:SS.mmmuuun   PARA1 CH RISE COUN ENER DURATION AMP A-FRQ  \\\n",
       "2   1   0  00:01:15.130000  0.0095  1   99    7    5      296  50    24   \n",
       "4   1   0  00:01:15.489000  0.0122  1   81    2    1      134  45    15   \n",
       "11  1   0  00:01:16.186000  0.0137  1    1    2    1       93  46    22   \n",
       "18  1   0  00:01:17.331000  0.0134  1    1    1    0        8  48   125   \n",
       "20  1   0  00:01:17.435000  0.0131  1   37    2    0       39  48    51   \n",
       "\n",
       "       RMS ASL PCNTS THR R-FRQ I-FRQ SIG-STRNGTH ABS-ENERGY  \n",
       "2   0.0004  15     4  45    15    40       35639    644.604  \n",
       "4   0.0004  18     1  45    18    12        8711     86.691  \n",
       "11  0.0002  14     1  45    10  1000        8583    105.235  \n",
       "18  0.0004  15     1  45     0  1000        1302     26.894  \n",
       "20  0.0004  16     2  45     0    54        5158     87.457  "
      ]
     },
     "execution_count": 441,
     "metadata": {},
     "output_type": "execute_result"
    }
   ],
   "source": [
    "test.head()"
   ]
  },
  {
   "cell_type": "code",
   "execution_count": 442,
   "metadata": {
    "collapsed": true
   },
   "outputs": [],
   "source": [
    "train.reset_index(drop=True,inplace=True)\n",
    "test.reset_index(drop=True,inplace=True)"
   ]
  },
  {
   "cell_type": "markdown",
   "metadata": {},
   "source": [
    "### Check data frame structure "
   ]
  },
  {
   "cell_type": "code",
   "execution_count": 443,
   "metadata": {},
   "outputs": [
    {
     "data": {
      "text/plain": [
       "((127718, 20), (80124, 19))"
      ]
     },
     "execution_count": 443,
     "metadata": {},
     "output_type": "execute_result"
    }
   ],
   "source": [
    "train.shape, test.shape"
   ]
  },
  {
   "cell_type": "code",
   "execution_count": 444,
   "metadata": {
    "scrolled": true
   },
   "outputs": [
    {
     "data": {
      "text/plain": [
       "(ID                   object\n",
       " DDD                  object\n",
       " HH:MM:SS.mmmuuun     object\n",
       " PARA1                object\n",
       " CH                   object\n",
       " RISE                 object\n",
       " COUN                 object\n",
       " ENER                 object\n",
       " DURATION             object\n",
       " AMP                  object\n",
       " A-FRQ                object\n",
       " RMS                  object\n",
       " ASL                  object\n",
       " PCNTS                object\n",
       " THR                  object\n",
       " R-FRQ                object\n",
       " I-FRQ                object\n",
       " SIG-STRNGTH          object\n",
       " ABS-ENERGY           object\n",
       " DAMAGE              float64\n",
       " dtype: object, ID                  object\n",
       " DDD                 object\n",
       " HH:MM:SS.mmmuuun    object\n",
       " PARA1               object\n",
       " CH                  object\n",
       " RISE                object\n",
       " COUN                object\n",
       " ENER                object\n",
       " DURATION            object\n",
       " AMP                 object\n",
       " A-FRQ               object\n",
       " RMS                 object\n",
       " ASL                 object\n",
       " PCNTS               object\n",
       " THR                 object\n",
       " R-FRQ               object\n",
       " I-FRQ               object\n",
       " SIG-STRNGTH         object\n",
       " ABS-ENERGY          object\n",
       " dtype: object)"
      ]
     },
     "execution_count": 444,
     "metadata": {},
     "output_type": "execute_result"
    }
   ],
   "source": [
    "train.dtypes, test.dtypes"
   ]
  },
  {
   "cell_type": "code",
   "execution_count": 445,
   "metadata": {},
   "outputs": [
    {
     "data": {
      "text/plain": [
       "(  ID DDD HH:MM:SS.mmmuuun   PARA1 CH RISE COUN ENER DURATION AMP A-FRQ  \\\n",
       " 0  1   0  00:01:13.212000  0.0143  2   21    4    2      134  51    30   \n",
       " 1  1   0  00:01:13.505000  0.0131  4    9    5    2      114  52    44   \n",
       " 2  1   0  00:01:14.793000  0.0131  2    1    1    0        2  47   500   \n",
       " 3  1   0  00:01:14.918000  0.0119  2    1    2    0       55  45    36   \n",
       " 4  1   0  00:01:15.187000  0.0092  2   27   12    8      442  57    27   \n",
       " \n",
       "       RMS ASL PCNTS THR R-FRQ I-FRQ SIG-STRNGTH ABS-ENERGY  DAMAGE  \n",
       " 0  0.0002  13     2  45    17    95       13088    202.701     0.0  \n",
       " 1  0.0002  13     1  45    38   111       14372    260.846     0.0  \n",
       " 2  0.0002  14     1  45     0  1000      283.65      6.438     0.0  \n",
       " 3  0.0002  14     1  45    18  1000        4188     52.109     0.0  \n",
       " 4  0.0004  16     2  45    24    74       51280       1296     0.0  ,\n",
       "   ID DDD HH:MM:SS.mmmuuun   PARA1 CH RISE COUN ENER DURATION AMP A-FRQ  \\\n",
       " 0  1   0  00:01:15.130000  0.0095  1   99    7    5      296  50    24   \n",
       " 1  1   0  00:01:15.489000  0.0122  1   81    2    1      134  45    15   \n",
       " 2  1   0  00:01:16.186000  0.0137  1    1    2    1       93  46    22   \n",
       " 3  1   0  00:01:17.331000  0.0134  1    1    1    0        8  48   125   \n",
       " 4  1   0  00:01:17.435000  0.0131  1   37    2    0       39  48    51   \n",
       " \n",
       "       RMS ASL PCNTS THR R-FRQ I-FRQ SIG-STRNGTH ABS-ENERGY  \n",
       " 0  0.0004  15     4  45    15    40       35639    644.604  \n",
       " 1  0.0004  18     1  45    18    12        8711     86.691  \n",
       " 2  0.0002  14     1  45    10  1000        8583    105.235  \n",
       " 3  0.0004  15     1  45     0  1000        1302     26.894  \n",
       " 4  0.0004  16     2  45     0    54        5158     87.457  )"
      ]
     },
     "execution_count": 445,
     "metadata": {},
     "output_type": "execute_result"
    }
   ],
   "source": [
    "train.head(), test.head()"
   ]
  },
  {
   "cell_type": "markdown",
   "metadata": {},
   "source": [
    "***\n",
    "## 2. Data Cleaning\n",
    "### Check and fill missing values "
   ]
  },
  {
   "cell_type": "code",
   "execution_count": 446,
   "metadata": {},
   "outputs": [
    {
     "data": {
      "text/plain": [
       "(ID                  127718\n",
       " DDD                 127718\n",
       " HH:MM:SS.mmmuuun    127718\n",
       " PARA1               127718\n",
       " CH                  127718\n",
       " RISE                127718\n",
       " COUN                127718\n",
       " ENER                127718\n",
       " DURATION            127718\n",
       " AMP                 127718\n",
       " A-FRQ               127718\n",
       " RMS                 127718\n",
       " ASL                 127718\n",
       " PCNTS               127718\n",
       " THR                 127718\n",
       " R-FRQ               127718\n",
       " I-FRQ               127718\n",
       " SIG-STRNGTH         127718\n",
       " ABS-ENERGY          127718\n",
       " DAMAGE              127718\n",
       " dtype: int64, ID                  80124\n",
       " DDD                 80124\n",
       " HH:MM:SS.mmmuuun    80124\n",
       " PARA1               80124\n",
       " CH                  80124\n",
       " RISE                80124\n",
       " COUN                80124\n",
       " ENER                80124\n",
       " DURATION            80124\n",
       " AMP                 80124\n",
       " A-FRQ               80124\n",
       " RMS                 80124\n",
       " ASL                 80124\n",
       " PCNTS               80124\n",
       " THR                 80124\n",
       " R-FRQ               80124\n",
       " I-FRQ               80124\n",
       " SIG-STRNGTH         80124\n",
       " ABS-ENERGY          80124\n",
       " dtype: int64)"
      ]
     },
     "execution_count": 446,
     "metadata": {},
     "output_type": "execute_result"
    }
   ],
   "source": [
    "train.count(), test.count()"
   ]
  },
  {
   "cell_type": "markdown",
   "metadata": {},
   "source": [
    "No missing data. Incomplete entries have already been removed."
   ]
  },
  {
   "cell_type": "markdown",
   "metadata": {},
   "source": [
    "### Convert to numeric columns "
   ]
  },
  {
   "cell_type": "code",
   "execution_count": 447,
   "metadata": {},
   "outputs": [
    {
     "data": {
      "text/plain": [
       "ID                    int32\n",
       "DDD                   int32\n",
       "HH:MM:SS.mmmuuun     object\n",
       "PARA1               float64\n",
       "CH                    int32\n",
       "RISE                  int32\n",
       "COUN                  int32\n",
       "ENER                  int32\n",
       "DURATION              int32\n",
       "AMP                   int32\n",
       "A-FRQ                 int32\n",
       "RMS                 float64\n",
       "ASL                   int32\n",
       "PCNTS                 int32\n",
       "THR                   int32\n",
       "R-FRQ                 int32\n",
       "I-FRQ                 int32\n",
       "SIG-STRNGTH         float64\n",
       "ABS-ENERGY          float64\n",
       "DAMAGE                int32\n",
       "dtype: object"
      ]
     },
     "execution_count": 447,
     "metadata": {},
     "output_type": "execute_result"
    }
   ],
   "source": [
    "train['ID'] = train['ID'].astype(int)\n",
    "train['DDD'] = train['DDD'].astype(int)\n",
    "train['PARA1'] = train['PARA1'].astype(float)\n",
    "train['CH'] = train['CH'].astype(int)\n",
    "train['RISE'] = train['RISE'].astype(int)\n",
    "train['COUN'] = train['COUN'].astype(int)\n",
    "train['ENER'] = train['ENER'].astype(int)\n",
    "train['DURATION'] = train['DURATION'].astype(int)\n",
    "train['AMP'] = train['AMP'].astype(int)\n",
    "train['A-FRQ'] = train['A-FRQ'].astype(int)\n",
    "train['RMS'] = train['RMS'].astype(float)\n",
    "train['ASL'] = train['ASL'].astype(int)\n",
    "train['PCNTS'] = train['PCNTS'].astype(int)\n",
    "train['THR'] = train['THR'].astype(int)\n",
    "train['R-FRQ'] = train['R-FRQ'].astype(int)\n",
    "train['I-FRQ'] = train['I-FRQ'].astype(int)\n",
    "train['SIG-STRNGTH'] = train['SIG-STRNGTH'].astype(float)\n",
    "train['ABS-ENERGY'] = train['ABS-ENERGY'].astype(float)\n",
    "train['DAMAGE'] = train['DAMAGE'].astype(int)\n",
    "\n",
    "train.dtypes"
   ]
  },
  {
   "cell_type": "code",
   "execution_count": 448,
   "metadata": {},
   "outputs": [
    {
     "data": {
      "text/plain": [
       "ID                    int32\n",
       "DDD                   int32\n",
       "HH:MM:SS.mmmuuun     object\n",
       "PARA1               float64\n",
       "CH                    int32\n",
       "RISE                  int32\n",
       "COUN                  int32\n",
       "ENER                  int32\n",
       "DURATION              int32\n",
       "AMP                   int32\n",
       "A-FRQ                 int32\n",
       "RMS                 float64\n",
       "ASL                   int32\n",
       "PCNTS                 int32\n",
       "THR                   int32\n",
       "R-FRQ                 int32\n",
       "I-FRQ                 int32\n",
       "SIG-STRNGTH         float64\n",
       "ABS-ENERGY          float64\n",
       "dtype: object"
      ]
     },
     "execution_count": 448,
     "metadata": {},
     "output_type": "execute_result"
    }
   ],
   "source": [
    "test['ID'] = test['ID'].astype(int)\n",
    "test['DDD'] = test['DDD'].astype(int)\n",
    "test['PARA1'] = test['PARA1'].astype(float)\n",
    "test['CH'] = test['CH'].astype(int)\n",
    "test['RISE'] = test['RISE'].astype(int)\n",
    "test['COUN'] = test['COUN'].astype(int)\n",
    "test['ENER'] = test['ENER'].astype(int)\n",
    "test['DURATION'] = test['DURATION'].astype(int)\n",
    "test['AMP'] = test['AMP'].astype(int)\n",
    "test['A-FRQ'] = test['A-FRQ'].astype(int)\n",
    "test['RMS'] = test['RMS'].astype(float)\n",
    "test['ASL'] = test['ASL'].astype(int)\n",
    "test['PCNTS'] = test['PCNTS'].astype(int)\n",
    "test['THR'] = test['THR'].astype(int)\n",
    "test['R-FRQ'] = test['R-FRQ'].astype(int)\n",
    "test['I-FRQ'] = test['I-FRQ'].astype(int)\n",
    "test['SIG-STRNGTH'] = test['SIG-STRNGTH'].astype(float)\n",
    "test['ABS-ENERGY'] = test['ABS-ENERGY'].astype(float)\n",
    "\n",
    "test.dtypes"
   ]
  },
  {
   "cell_type": "code",
   "execution_count": 449,
   "metadata": {
    "collapsed": true
   },
   "outputs": [],
   "source": [
    "train.to_excel(\"trainData.xlsx\")\n",
    "test.to_excel(\"testData.xlsx\")"
   ]
  },
  {
   "cell_type": "markdown",
   "metadata": {},
   "source": [
    "### Normalize Data"
   ]
  },
  {
   "cell_type": "code",
   "execution_count": 450,
   "metadata": {
    "collapsed": true
   },
   "outputs": [],
   "source": [
    "# mn = pd.DataFrame.mean(data)\n",
    "# vr = pd.DataFrame.var(data)\n",
    "\n",
    "# data.RISE = (data.RISE - mn.RISE) / vr.RISE\n",
    "# data.COUN = (data.COUN - mn.COUN) / vr.COUN\n",
    "# data.ENER = (data.ENER - mn.ENER) / vr.ENER\n",
    "# data.DURATION = (data.DURATION - mn.DURATION) / vr.DURATION\n",
    "# data.AMP = (data.AMP - mn.AMP) / vr.AMP\n",
    "# data.A_FRQ = (data.A_FRQ - mn.A_FRQ) / vr.A_FRQ\n",
    "# data.SIG_STRNGTH = (data.SIG_STRNGTH - mn.SIG_STRNGTH) / vr.SIG_STRNGTH\n",
    "# data.ABS_ENERGY = (data.ABS_ENERGY - mn.ABS_ENERGY) / vr.ABS_ENERGY"
   ]
  },
  {
   "cell_type": "code",
   "execution_count": 451,
   "metadata": {},
   "outputs": [],
   "source": [
    "train['HR'] = train['HH:MM:SS.mmmuuun'].apply(lambda x: x.hour)\n",
    "train['MIN'] = train['HH:MM:SS.mmmuuun'].apply(lambda x: x.minute)\n",
    "train['SEC'] = train['HH:MM:SS.mmmuuun'].apply(lambda x: x.second)\n",
    "train['USEC'] = train['HH:MM:SS.mmmuuun'].apply(lambda x: x.microsecond)"
   ]
  },
  {
   "cell_type": "code",
   "execution_count": 452,
   "metadata": {
    "collapsed": true
   },
   "outputs": [],
   "source": [
    "test['HR'] = test['HH:MM:SS.mmmuuun'].apply(lambda x: x.hour)\n",
    "test['MIN'] = test['HH:MM:SS.mmmuuun'].apply(lambda x: x.minute)\n",
    "test['SEC'] = test['HH:MM:SS.mmmuuun'].apply(lambda x: x.second)\n",
    "test['USEC'] = test['HH:MM:SS.mmmuuun'].apply(lambda x: x.microsecond)"
   ]
  },
  {
   "cell_type": "code",
   "execution_count": 453,
   "metadata": {},
   "outputs": [
    {
     "data": {
      "text/html": [
       "<div>\n",
       "<style>\n",
       "    .dataframe thead tr:only-child th {\n",
       "        text-align: right;\n",
       "    }\n",
       "\n",
       "    .dataframe thead th {\n",
       "        text-align: left;\n",
       "    }\n",
       "\n",
       "    .dataframe tbody tr th {\n",
       "        vertical-align: top;\n",
       "    }\n",
       "</style>\n",
       "<table border=\"1\" class=\"dataframe\">\n",
       "  <thead>\n",
       "    <tr style=\"text-align: right;\">\n",
       "      <th></th>\n",
       "      <th>ID</th>\n",
       "      <th>DDD</th>\n",
       "      <th>HH:MM:SS.mmmuuun</th>\n",
       "      <th>PARA1</th>\n",
       "      <th>CH</th>\n",
       "      <th>RISE</th>\n",
       "      <th>COUN</th>\n",
       "      <th>ENER</th>\n",
       "      <th>DURATION</th>\n",
       "      <th>AMP</th>\n",
       "      <th>...</th>\n",
       "      <th>THR</th>\n",
       "      <th>R-FRQ</th>\n",
       "      <th>I-FRQ</th>\n",
       "      <th>SIG-STRNGTH</th>\n",
       "      <th>ABS-ENERGY</th>\n",
       "      <th>DAMAGE</th>\n",
       "      <th>HR</th>\n",
       "      <th>MIN</th>\n",
       "      <th>SEC</th>\n",
       "      <th>USEC</th>\n",
       "    </tr>\n",
       "  </thead>\n",
       "  <tbody>\n",
       "    <tr>\n",
       "      <th>0</th>\n",
       "      <td>1</td>\n",
       "      <td>0</td>\n",
       "      <td>00:01:13.212000</td>\n",
       "      <td>0.0143</td>\n",
       "      <td>2</td>\n",
       "      <td>21</td>\n",
       "      <td>4</td>\n",
       "      <td>2</td>\n",
       "      <td>134</td>\n",
       "      <td>51</td>\n",
       "      <td>...</td>\n",
       "      <td>45</td>\n",
       "      <td>17</td>\n",
       "      <td>95</td>\n",
       "      <td>13088.00</td>\n",
       "      <td>202.701</td>\n",
       "      <td>0</td>\n",
       "      <td>0</td>\n",
       "      <td>1</td>\n",
       "      <td>13</td>\n",
       "      <td>212000</td>\n",
       "    </tr>\n",
       "    <tr>\n",
       "      <th>1</th>\n",
       "      <td>1</td>\n",
       "      <td>0</td>\n",
       "      <td>00:01:13.505000</td>\n",
       "      <td>0.0131</td>\n",
       "      <td>4</td>\n",
       "      <td>9</td>\n",
       "      <td>5</td>\n",
       "      <td>2</td>\n",
       "      <td>114</td>\n",
       "      <td>52</td>\n",
       "      <td>...</td>\n",
       "      <td>45</td>\n",
       "      <td>38</td>\n",
       "      <td>111</td>\n",
       "      <td>14372.00</td>\n",
       "      <td>260.846</td>\n",
       "      <td>0</td>\n",
       "      <td>0</td>\n",
       "      <td>1</td>\n",
       "      <td>13</td>\n",
       "      <td>505000</td>\n",
       "    </tr>\n",
       "    <tr>\n",
       "      <th>2</th>\n",
       "      <td>1</td>\n",
       "      <td>0</td>\n",
       "      <td>00:01:14.793000</td>\n",
       "      <td>0.0131</td>\n",
       "      <td>2</td>\n",
       "      <td>1</td>\n",
       "      <td>1</td>\n",
       "      <td>0</td>\n",
       "      <td>2</td>\n",
       "      <td>47</td>\n",
       "      <td>...</td>\n",
       "      <td>45</td>\n",
       "      <td>0</td>\n",
       "      <td>1000</td>\n",
       "      <td>283.65</td>\n",
       "      <td>6.438</td>\n",
       "      <td>0</td>\n",
       "      <td>0</td>\n",
       "      <td>1</td>\n",
       "      <td>14</td>\n",
       "      <td>793000</td>\n",
       "    </tr>\n",
       "    <tr>\n",
       "      <th>3</th>\n",
       "      <td>1</td>\n",
       "      <td>0</td>\n",
       "      <td>00:01:14.918000</td>\n",
       "      <td>0.0119</td>\n",
       "      <td>2</td>\n",
       "      <td>1</td>\n",
       "      <td>2</td>\n",
       "      <td>0</td>\n",
       "      <td>55</td>\n",
       "      <td>45</td>\n",
       "      <td>...</td>\n",
       "      <td>45</td>\n",
       "      <td>18</td>\n",
       "      <td>1000</td>\n",
       "      <td>4188.00</td>\n",
       "      <td>52.109</td>\n",
       "      <td>0</td>\n",
       "      <td>0</td>\n",
       "      <td>1</td>\n",
       "      <td>14</td>\n",
       "      <td>918000</td>\n",
       "    </tr>\n",
       "    <tr>\n",
       "      <th>4</th>\n",
       "      <td>1</td>\n",
       "      <td>0</td>\n",
       "      <td>00:01:15.187000</td>\n",
       "      <td>0.0092</td>\n",
       "      <td>2</td>\n",
       "      <td>27</td>\n",
       "      <td>12</td>\n",
       "      <td>8</td>\n",
       "      <td>442</td>\n",
       "      <td>57</td>\n",
       "      <td>...</td>\n",
       "      <td>45</td>\n",
       "      <td>24</td>\n",
       "      <td>74</td>\n",
       "      <td>51280.00</td>\n",
       "      <td>1296.000</td>\n",
       "      <td>0</td>\n",
       "      <td>0</td>\n",
       "      <td>1</td>\n",
       "      <td>15</td>\n",
       "      <td>187000</td>\n",
       "    </tr>\n",
       "  </tbody>\n",
       "</table>\n",
       "<p>5 rows × 24 columns</p>\n",
       "</div>"
      ],
      "text/plain": [
       "   ID  DDD HH:MM:SS.mmmuuun   PARA1  CH  RISE  COUN  ENER  DURATION  AMP  \\\n",
       "0   1    0  00:01:13.212000  0.0143   2    21     4     2       134   51   \n",
       "1   1    0  00:01:13.505000  0.0131   4     9     5     2       114   52   \n",
       "2   1    0  00:01:14.793000  0.0131   2     1     1     0         2   47   \n",
       "3   1    0  00:01:14.918000  0.0119   2     1     2     0        55   45   \n",
       "4   1    0  00:01:15.187000  0.0092   2    27    12     8       442   57   \n",
       "\n",
       "    ...    THR  R-FRQ  I-FRQ  SIG-STRNGTH  ABS-ENERGY  DAMAGE  HR  MIN  SEC  \\\n",
       "0   ...     45     17     95     13088.00     202.701       0   0    1   13   \n",
       "1   ...     45     38    111     14372.00     260.846       0   0    1   13   \n",
       "2   ...     45      0   1000       283.65       6.438       0   0    1   14   \n",
       "3   ...     45     18   1000      4188.00      52.109       0   0    1   14   \n",
       "4   ...     45     24     74     51280.00    1296.000       0   0    1   15   \n",
       "\n",
       "     USEC  \n",
       "0  212000  \n",
       "1  505000  \n",
       "2  793000  \n",
       "3  918000  \n",
       "4  187000  \n",
       "\n",
       "[5 rows x 24 columns]"
      ]
     },
     "execution_count": 453,
     "metadata": {},
     "output_type": "execute_result"
    }
   ],
   "source": [
    "train.head()"
   ]
  },
  {
   "cell_type": "code",
   "execution_count": 454,
   "metadata": {},
   "outputs": [
    {
     "data": {
      "text/html": [
       "<div>\n",
       "<style>\n",
       "    .dataframe thead tr:only-child th {\n",
       "        text-align: right;\n",
       "    }\n",
       "\n",
       "    .dataframe thead th {\n",
       "        text-align: left;\n",
       "    }\n",
       "\n",
       "    .dataframe tbody tr th {\n",
       "        vertical-align: top;\n",
       "    }\n",
       "</style>\n",
       "<table border=\"1\" class=\"dataframe\">\n",
       "  <thead>\n",
       "    <tr style=\"text-align: right;\">\n",
       "      <th></th>\n",
       "      <th>ID</th>\n",
       "      <th>DDD</th>\n",
       "      <th>HH:MM:SS.mmmuuun</th>\n",
       "      <th>PARA1</th>\n",
       "      <th>CH</th>\n",
       "      <th>RISE</th>\n",
       "      <th>COUN</th>\n",
       "      <th>ENER</th>\n",
       "      <th>DURATION</th>\n",
       "      <th>AMP</th>\n",
       "      <th>...</th>\n",
       "      <th>PCNTS</th>\n",
       "      <th>THR</th>\n",
       "      <th>R-FRQ</th>\n",
       "      <th>I-FRQ</th>\n",
       "      <th>SIG-STRNGTH</th>\n",
       "      <th>ABS-ENERGY</th>\n",
       "      <th>HR</th>\n",
       "      <th>MIN</th>\n",
       "      <th>SEC</th>\n",
       "      <th>USEC</th>\n",
       "    </tr>\n",
       "  </thead>\n",
       "  <tbody>\n",
       "    <tr>\n",
       "      <th>0</th>\n",
       "      <td>1</td>\n",
       "      <td>0</td>\n",
       "      <td>00:01:15.130000</td>\n",
       "      <td>0.0095</td>\n",
       "      <td>1</td>\n",
       "      <td>99</td>\n",
       "      <td>7</td>\n",
       "      <td>5</td>\n",
       "      <td>296</td>\n",
       "      <td>50</td>\n",
       "      <td>...</td>\n",
       "      <td>4</td>\n",
       "      <td>45</td>\n",
       "      <td>15</td>\n",
       "      <td>40</td>\n",
       "      <td>35639.0</td>\n",
       "      <td>644.604</td>\n",
       "      <td>0</td>\n",
       "      <td>1</td>\n",
       "      <td>15</td>\n",
       "      <td>130000</td>\n",
       "    </tr>\n",
       "    <tr>\n",
       "      <th>1</th>\n",
       "      <td>1</td>\n",
       "      <td>0</td>\n",
       "      <td>00:01:15.489000</td>\n",
       "      <td>0.0122</td>\n",
       "      <td>1</td>\n",
       "      <td>81</td>\n",
       "      <td>2</td>\n",
       "      <td>1</td>\n",
       "      <td>134</td>\n",
       "      <td>45</td>\n",
       "      <td>...</td>\n",
       "      <td>1</td>\n",
       "      <td>45</td>\n",
       "      <td>18</td>\n",
       "      <td>12</td>\n",
       "      <td>8711.0</td>\n",
       "      <td>86.691</td>\n",
       "      <td>0</td>\n",
       "      <td>1</td>\n",
       "      <td>15</td>\n",
       "      <td>489000</td>\n",
       "    </tr>\n",
       "    <tr>\n",
       "      <th>2</th>\n",
       "      <td>1</td>\n",
       "      <td>0</td>\n",
       "      <td>00:01:16.186000</td>\n",
       "      <td>0.0137</td>\n",
       "      <td>1</td>\n",
       "      <td>1</td>\n",
       "      <td>2</td>\n",
       "      <td>1</td>\n",
       "      <td>93</td>\n",
       "      <td>46</td>\n",
       "      <td>...</td>\n",
       "      <td>1</td>\n",
       "      <td>45</td>\n",
       "      <td>10</td>\n",
       "      <td>1000</td>\n",
       "      <td>8583.0</td>\n",
       "      <td>105.235</td>\n",
       "      <td>0</td>\n",
       "      <td>1</td>\n",
       "      <td>16</td>\n",
       "      <td>186000</td>\n",
       "    </tr>\n",
       "    <tr>\n",
       "      <th>3</th>\n",
       "      <td>1</td>\n",
       "      <td>0</td>\n",
       "      <td>00:01:17.331000</td>\n",
       "      <td>0.0134</td>\n",
       "      <td>1</td>\n",
       "      <td>1</td>\n",
       "      <td>1</td>\n",
       "      <td>0</td>\n",
       "      <td>8</td>\n",
       "      <td>48</td>\n",
       "      <td>...</td>\n",
       "      <td>1</td>\n",
       "      <td>45</td>\n",
       "      <td>0</td>\n",
       "      <td>1000</td>\n",
       "      <td>1302.0</td>\n",
       "      <td>26.894</td>\n",
       "      <td>0</td>\n",
       "      <td>1</td>\n",
       "      <td>17</td>\n",
       "      <td>331000</td>\n",
       "    </tr>\n",
       "    <tr>\n",
       "      <th>4</th>\n",
       "      <td>1</td>\n",
       "      <td>0</td>\n",
       "      <td>00:01:17.435000</td>\n",
       "      <td>0.0131</td>\n",
       "      <td>1</td>\n",
       "      <td>37</td>\n",
       "      <td>2</td>\n",
       "      <td>0</td>\n",
       "      <td>39</td>\n",
       "      <td>48</td>\n",
       "      <td>...</td>\n",
       "      <td>2</td>\n",
       "      <td>45</td>\n",
       "      <td>0</td>\n",
       "      <td>54</td>\n",
       "      <td>5158.0</td>\n",
       "      <td>87.457</td>\n",
       "      <td>0</td>\n",
       "      <td>1</td>\n",
       "      <td>17</td>\n",
       "      <td>435000</td>\n",
       "    </tr>\n",
       "  </tbody>\n",
       "</table>\n",
       "<p>5 rows × 23 columns</p>\n",
       "</div>"
      ],
      "text/plain": [
       "   ID  DDD HH:MM:SS.mmmuuun   PARA1  CH  RISE  COUN  ENER  DURATION  AMP  \\\n",
       "0   1    0  00:01:15.130000  0.0095   1    99     7     5       296   50   \n",
       "1   1    0  00:01:15.489000  0.0122   1    81     2     1       134   45   \n",
       "2   1    0  00:01:16.186000  0.0137   1     1     2     1        93   46   \n",
       "3   1    0  00:01:17.331000  0.0134   1     1     1     0         8   48   \n",
       "4   1    0  00:01:17.435000  0.0131   1    37     2     0        39   48   \n",
       "\n",
       "    ...    PCNTS  THR  R-FRQ  I-FRQ  SIG-STRNGTH  ABS-ENERGY  HR  MIN  SEC  \\\n",
       "0   ...        4   45     15     40      35639.0     644.604   0    1   15   \n",
       "1   ...        1   45     18     12       8711.0      86.691   0    1   15   \n",
       "2   ...        1   45     10   1000       8583.0     105.235   0    1   16   \n",
       "3   ...        1   45      0   1000       1302.0      26.894   0    1   17   \n",
       "4   ...        2   45      0     54       5158.0      87.457   0    1   17   \n",
       "\n",
       "     USEC  \n",
       "0  130000  \n",
       "1  489000  \n",
       "2  186000  \n",
       "3  331000  \n",
       "4  435000  \n",
       "\n",
       "[5 rows x 23 columns]"
      ]
     },
     "execution_count": 454,
     "metadata": {},
     "output_type": "execute_result"
    }
   ],
   "source": [
    "test.head()"
   ]
  },
  {
   "cell_type": "code",
   "execution_count": 455,
   "metadata": {},
   "outputs": [],
   "source": [
    "X = train.copy()\n",
    "y = train['DAMAGE'].copy()\n",
    "Z = test.copy()"
   ]
  },
  {
   "cell_type": "code",
   "execution_count": 456,
   "metadata": {
    "collapsed": true
   },
   "outputs": [],
   "source": [
    "X.drop('HH:MM:SS.mmmuuun',axis=1,inplace=True)\n",
    "X.drop('DAMAGE',axis=1,inplace=True)"
   ]
  },
  {
   "cell_type": "code",
   "execution_count": 457,
   "metadata": {
    "collapsed": true
   },
   "outputs": [],
   "source": [
    "Z.drop('HH:MM:SS.mmmuuun',axis=1,inplace=True)"
   ]
  },
  {
   "cell_type": "markdown",
   "metadata": {},
   "source": [
    "Split Train/Test Sets"
   ]
  },
  {
   "cell_type": "code",
   "execution_count": 458,
   "metadata": {
    "collapsed": true
   },
   "outputs": [],
   "source": [
    "X_train, X_valid, y_train, y_valid = train_test_split(X, y, test_size=0.2)"
   ]
  },
  {
   "cell_type": "code",
   "execution_count": 459,
   "metadata": {},
   "outputs": [
    {
     "data": {
      "text/plain": [
       "((102174, 22), (25544, 22), (102174,), (25544,))"
      ]
     },
     "execution_count": 459,
     "metadata": {},
     "output_type": "execute_result"
    }
   ],
   "source": [
    "X_train.shape, X_valid.shape, y_train.shape, y_valid.shape"
   ]
  },
  {
   "cell_type": "markdown",
   "metadata": {},
   "source": [
    "***\n",
    "## 3. Train and Evaluate the Model"
   ]
  },
  {
   "cell_type": "markdown",
   "metadata": {},
   "source": [
    "### XGBoost MODEL"
   ]
  },
  {
   "cell_type": "markdown",
   "metadata": {},
   "source": [
    "### XGBoost Setup"
   ]
  },
  {
   "cell_type": "code",
   "execution_count": 460,
   "metadata": {},
   "outputs": [],
   "source": [
    "# Specify the model\n",
    "dtrain = xgb.DMatrix(X_train, label=y_train)\n",
    "dvalid = xgb.DMatrix(X_valid, label=y_valid)\n",
    "dtest = xgb.DMatrix(Z)\n",
    "watchlist = [(dtrain, 'train'), (dvalid, 'valid')]"
   ]
  },
  {
   "cell_type": "markdown",
   "metadata": {},
   "source": [
    "### XGBoost training and evaluation"
   ]
  },
  {
   "cell_type": "code",
   "execution_count": 461,
   "metadata": {},
   "outputs": [
    {
     "name": "stdout",
     "output_type": "stream",
     "text": [
      "[0]\ttrain-rmse:1.77085\tvalid-rmse:1.76855\n",
      "Multiple eval metrics have been passed: 'valid-rmse' will be used for early stopping.\n",
      "\n",
      "Will train until valid-rmse hasn't improved in 10 rounds.\n",
      "[1]\ttrain-rmse:1.59381\tvalid-rmse:1.59175\n",
      "[2]\ttrain-rmse:1.43447\tvalid-rmse:1.43264\n",
      "[3]\ttrain-rmse:1.29107\tvalid-rmse:1.28944\n",
      "[4]\ttrain-rmse:1.16201\tvalid-rmse:1.16056\n",
      "[5]\ttrain-rmse:1.04586\tvalid-rmse:1.04457\n",
      "[6]\ttrain-rmse:0.941325\tvalid-rmse:0.940185\n",
      "[7]\ttrain-rmse:0.847253\tvalid-rmse:0.846244\n",
      "[8]\ttrain-rmse:0.762591\tvalid-rmse:0.761697\n",
      "[9]\ttrain-rmse:0.686396\tvalid-rmse:0.685608\n",
      "[10]\ttrain-rmse:0.617826\tvalid-rmse:0.617134\n",
      "[11]\ttrain-rmse:0.556123\tvalid-rmse:0.555523\n",
      "[12]\ttrain-rmse:0.500594\tvalid-rmse:0.500071\n",
      "[13]\ttrain-rmse:0.450619\tvalid-rmse:0.450164\n",
      "[14]\ttrain-rmse:0.405648\tvalid-rmse:0.405257\n",
      "[15]\ttrain-rmse:0.365184\tvalid-rmse:0.36485\n",
      "[16]\ttrain-rmse:0.328773\tvalid-rmse:0.328487\n",
      "[17]\ttrain-rmse:0.296007\tvalid-rmse:0.295761\n",
      "[18]\ttrain-rmse:0.266528\tvalid-rmse:0.266324\n",
      "[19]\ttrain-rmse:0.240011\tvalid-rmse:0.239839\n",
      "[20]\ttrain-rmse:0.216139\tvalid-rmse:0.215997\n",
      "[21]\ttrain-rmse:0.19467\tvalid-rmse:0.194561\n",
      "[22]\ttrain-rmse:0.175357\tvalid-rmse:0.175279\n",
      "[23]\ttrain-rmse:0.157982\tvalid-rmse:0.157938\n",
      "[24]\ttrain-rmse:0.142354\tvalid-rmse:0.142337\n",
      "[25]\ttrain-rmse:0.128313\tvalid-rmse:0.128316\n",
      "[26]\ttrain-rmse:0.11567\tvalid-rmse:0.115693\n",
      "[27]\ttrain-rmse:0.104319\tvalid-rmse:0.104363\n",
      "[28]\ttrain-rmse:0.094111\tvalid-rmse:0.094179\n",
      "[29]\ttrain-rmse:0.084948\tvalid-rmse:0.085047\n",
      "[30]\ttrain-rmse:0.076697\tvalid-rmse:0.076819\n",
      "[31]\ttrain-rmse:0.069303\tvalid-rmse:0.069453\n",
      "[32]\ttrain-rmse:0.06269\tvalid-rmse:0.062869\n",
      "[33]\ttrain-rmse:0.056739\tvalid-rmse:0.056956\n",
      "[34]\ttrain-rmse:0.051397\tvalid-rmse:0.05164\n",
      "[35]\ttrain-rmse:0.04715\tvalid-rmse:0.047432\n",
      "[36]\ttrain-rmse:0.04286\tvalid-rmse:0.043182\n",
      "[37]\ttrain-rmse:0.038992\tvalid-rmse:0.039356\n",
      "[38]\ttrain-rmse:0.035547\tvalid-rmse:0.035947\n",
      "[39]\ttrain-rmse:0.032522\tvalid-rmse:0.032965\n",
      "[40]\ttrain-rmse:0.029786\tvalid-rmse:0.030302\n",
      "[41]\ttrain-rmse:0.027371\tvalid-rmse:0.027957\n",
      "[42]\ttrain-rmse:0.025209\tvalid-rmse:0.025865\n",
      "[43]\ttrain-rmse:0.023369\tvalid-rmse:0.02409\n",
      "[44]\ttrain-rmse:0.021741\tvalid-rmse:0.02253\n",
      "[45]\ttrain-rmse:0.020453\tvalid-rmse:0.021304\n",
      "[46]\ttrain-rmse:0.01934\tvalid-rmse:0.020233\n",
      "[47]\ttrain-rmse:0.018387\tvalid-rmse:0.019345\n",
      "[48]\ttrain-rmse:0.017392\tvalid-rmse:0.018435\n",
      "[49]\ttrain-rmse:0.016707\tvalid-rmse:0.017833\n",
      "[50]\ttrain-rmse:0.015883\tvalid-rmse:0.017065\n",
      "[51]\ttrain-rmse:0.015171\tvalid-rmse:0.016437\n",
      "[52]\ttrain-rmse:0.014625\tvalid-rmse:0.015963\n",
      "[53]\ttrain-rmse:0.014256\tvalid-rmse:0.015672\n",
      "[54]\ttrain-rmse:0.013855\tvalid-rmse:0.015342\n",
      "[55]\ttrain-rmse:0.013447\tvalid-rmse:0.015007\n",
      "[56]\ttrain-rmse:0.013094\tvalid-rmse:0.01471\n",
      "[57]\ttrain-rmse:0.012899\tvalid-rmse:0.014569\n",
      "[58]\ttrain-rmse:0.012715\tvalid-rmse:0.01444\n",
      "[59]\ttrain-rmse:0.012578\tvalid-rmse:0.01435\n",
      "[60]\ttrain-rmse:0.012403\tvalid-rmse:0.014169\n",
      "[61]\ttrain-rmse:0.012222\tvalid-rmse:0.01398\n",
      "[62]\ttrain-rmse:0.012122\tvalid-rmse:0.013935\n",
      "[63]\ttrain-rmse:0.01198\tvalid-rmse:0.013783\n",
      "[64]\ttrain-rmse:0.011865\tvalid-rmse:0.013713\n",
      "[65]\ttrain-rmse:0.011736\tvalid-rmse:0.013598\n",
      "[66]\ttrain-rmse:0.011633\tvalid-rmse:0.01355\n",
      "[67]\ttrain-rmse:0.011532\tvalid-rmse:0.013473\n",
      "[68]\ttrain-rmse:0.011442\tvalid-rmse:0.013413\n",
      "[69]\ttrain-rmse:0.011363\tvalid-rmse:0.013348\n",
      "[70]\ttrain-rmse:0.011298\tvalid-rmse:0.01333\n",
      "[71]\ttrain-rmse:0.011212\tvalid-rmse:0.01323\n",
      "[72]\ttrain-rmse:0.01113\tvalid-rmse:0.013143\n",
      "[73]\ttrain-rmse:0.011082\tvalid-rmse:0.013121\n",
      "[74]\ttrain-rmse:0.011044\tvalid-rmse:0.013065\n",
      "[75]\ttrain-rmse:0.011008\tvalid-rmse:0.013015\n",
      "[76]\ttrain-rmse:0.010956\tvalid-rmse:0.01302\n",
      "[77]\ttrain-rmse:0.010908\tvalid-rmse:0.013001\n",
      "[78]\ttrain-rmse:0.010786\tvalid-rmse:0.012897\n",
      "[79]\ttrain-rmse:0.010738\tvalid-rmse:0.012884\n",
      "[80]\ttrain-rmse:0.010657\tvalid-rmse:0.01282\n",
      "[81]\ttrain-rmse:0.010619\tvalid-rmse:0.012838\n",
      "[82]\ttrain-rmse:0.010579\tvalid-rmse:0.012863\n",
      "[83]\ttrain-rmse:0.01047\tvalid-rmse:0.012774\n",
      "[84]\ttrain-rmse:0.010452\tvalid-rmse:0.012761\n",
      "[85]\ttrain-rmse:0.010351\tvalid-rmse:0.012639\n",
      "[86]\ttrain-rmse:0.010323\tvalid-rmse:0.012647\n",
      "[87]\ttrain-rmse:0.010294\tvalid-rmse:0.012666\n",
      "[88]\ttrain-rmse:0.010261\tvalid-rmse:0.012622\n",
      "[89]\ttrain-rmse:0.010144\tvalid-rmse:0.012446\n",
      "[90]\ttrain-rmse:0.010111\tvalid-rmse:0.012449\n",
      "[91]\ttrain-rmse:0.010056\tvalid-rmse:0.012427\n",
      "[92]\ttrain-rmse:0.010041\tvalid-rmse:0.012442\n",
      "[93]\ttrain-rmse:0.009986\tvalid-rmse:0.012408\n",
      "[94]\ttrain-rmse:0.009945\tvalid-rmse:0.012429\n",
      "[95]\ttrain-rmse:0.009917\tvalid-rmse:0.012422\n",
      "[96]\ttrain-rmse:0.009882\tvalid-rmse:0.012375\n",
      "[97]\ttrain-rmse:0.009847\tvalid-rmse:0.012376\n",
      "[98]\ttrain-rmse:0.009825\tvalid-rmse:0.012372\n",
      "[99]\ttrain-rmse:0.009775\tvalid-rmse:0.012414\n",
      "[100]\ttrain-rmse:0.009744\tvalid-rmse:0.012462\n",
      "[101]\ttrain-rmse:0.009722\tvalid-rmse:0.012433\n",
      "[102]\ttrain-rmse:0.009687\tvalid-rmse:0.012414\n",
      "[103]\ttrain-rmse:0.009656\tvalid-rmse:0.012439\n",
      "[104]\ttrain-rmse:0.009624\tvalid-rmse:0.012418\n",
      "[105]\ttrain-rmse:0.009565\tvalid-rmse:0.012387\n",
      "[106]\ttrain-rmse:0.009541\tvalid-rmse:0.012377\n",
      "[107]\ttrain-rmse:0.009501\tvalid-rmse:0.012365\n",
      "[108]\ttrain-rmse:0.009477\tvalid-rmse:0.012365\n",
      "[109]\ttrain-rmse:0.009459\tvalid-rmse:0.012359\n",
      "[110]\ttrain-rmse:0.009435\tvalid-rmse:0.012329\n",
      "[111]\ttrain-rmse:0.009417\tvalid-rmse:0.012322\n",
      "[112]\ttrain-rmse:0.0094\tvalid-rmse:0.012312\n",
      "[113]\ttrain-rmse:0.009367\tvalid-rmse:0.012281\n",
      "[114]\ttrain-rmse:0.00935\tvalid-rmse:0.012274\n",
      "[115]\ttrain-rmse:0.009327\tvalid-rmse:0.012269\n",
      "[116]\ttrain-rmse:0.009315\tvalid-rmse:0.01226\n",
      "[117]\ttrain-rmse:0.009305\tvalid-rmse:0.012272\n",
      "[118]\ttrain-rmse:0.009285\tvalid-rmse:0.012259\n",
      "[119]\ttrain-rmse:0.009266\tvalid-rmse:0.01227\n",
      "[120]\ttrain-rmse:0.009257\tvalid-rmse:0.012258\n",
      "[121]\ttrain-rmse:0.009241\tvalid-rmse:0.012269\n",
      "[122]\ttrain-rmse:0.009222\tvalid-rmse:0.012251\n",
      "[123]\ttrain-rmse:0.009203\tvalid-rmse:0.012238\n",
      "[124]\ttrain-rmse:0.009181\tvalid-rmse:0.012207\n",
      "[125]\ttrain-rmse:0.009165\tvalid-rmse:0.012211\n",
      "[126]\ttrain-rmse:0.009144\tvalid-rmse:0.012194\n",
      "[127]\ttrain-rmse:0.009133\tvalid-rmse:0.012193\n",
      "[128]\ttrain-rmse:0.009123\tvalid-rmse:0.012205\n",
      "[129]\ttrain-rmse:0.0091\tvalid-rmse:0.012202\n",
      "[130]\ttrain-rmse:0.009028\tvalid-rmse:0.012138\n",
      "[131]\ttrain-rmse:0.00901\tvalid-rmse:0.012125\n",
      "[132]\ttrain-rmse:0.008981\tvalid-rmse:0.012096\n",
      "[133]\ttrain-rmse:0.00896\tvalid-rmse:0.012107\n",
      "[134]\ttrain-rmse:0.008933\tvalid-rmse:0.012071\n",
      "[135]\ttrain-rmse:0.008902\tvalid-rmse:0.01202\n",
      "[136]\ttrain-rmse:0.008894\tvalid-rmse:0.012025\n",
      "[137]\ttrain-rmse:0.008876\tvalid-rmse:0.012019\n",
      "[138]\ttrain-rmse:0.008837\tvalid-rmse:0.012038\n",
      "[139]\ttrain-rmse:0.008802\tvalid-rmse:0.012032\n",
      "[140]\ttrain-rmse:0.008758\tvalid-rmse:0.012009\n",
      "[141]\ttrain-rmse:0.008736\tvalid-rmse:0.011985\n",
      "[142]\ttrain-rmse:0.008722\tvalid-rmse:0.011985\n",
      "[143]\ttrain-rmse:0.008703\tvalid-rmse:0.011974\n",
      "[144]\ttrain-rmse:0.008692\tvalid-rmse:0.011979\n",
      "[145]\ttrain-rmse:0.008673\tvalid-rmse:0.011934\n",
      "[146]\ttrain-rmse:0.008662\tvalid-rmse:0.011926\n",
      "[147]\ttrain-rmse:0.00864\tvalid-rmse:0.011918\n",
      "[148]\ttrain-rmse:0.008618\tvalid-rmse:0.01191\n",
      "[149]\ttrain-rmse:0.008612\tvalid-rmse:0.011904\n",
      "[150]\ttrain-rmse:0.008583\tvalid-rmse:0.011842\n",
      "[151]\ttrain-rmse:0.008565\tvalid-rmse:0.011807\n",
      "[152]\ttrain-rmse:0.008551\tvalid-rmse:0.011804\n",
      "[153]\ttrain-rmse:0.008538\tvalid-rmse:0.011808\n",
      "[154]\ttrain-rmse:0.008522\tvalid-rmse:0.01177\n",
      "[155]\ttrain-rmse:0.008493\tvalid-rmse:0.011759\n",
      "[156]\ttrain-rmse:0.00846\tvalid-rmse:0.011735\n",
      "[157]\ttrain-rmse:0.008446\tvalid-rmse:0.011741\n",
      "[158]\ttrain-rmse:0.008425\tvalid-rmse:0.011745\n",
      "[159]\ttrain-rmse:0.008405\tvalid-rmse:0.011709\n",
      "[160]\ttrain-rmse:0.008382\tvalid-rmse:0.011718\n",
      "[161]\ttrain-rmse:0.008362\tvalid-rmse:0.011688\n",
      "[162]\ttrain-rmse:0.008333\tvalid-rmse:0.011665\n",
      "[163]\ttrain-rmse:0.008328\tvalid-rmse:0.011668\n",
      "[164]\ttrain-rmse:0.008321\tvalid-rmse:0.011666\n",
      "[165]\ttrain-rmse:0.008307\tvalid-rmse:0.011657\n",
      "[166]\ttrain-rmse:0.00829\tvalid-rmse:0.011664\n",
      "[167]\ttrain-rmse:0.008281\tvalid-rmse:0.011661\n",
      "[168]\ttrain-rmse:0.008272\tvalid-rmse:0.011673\n",
      "[169]\ttrain-rmse:0.00825\tvalid-rmse:0.011653\n",
      "[170]\ttrain-rmse:0.00821\tvalid-rmse:0.011614\n",
      "[171]\ttrain-rmse:0.008203\tvalid-rmse:0.011623\n",
      "[172]\ttrain-rmse:0.008197\tvalid-rmse:0.011624\n",
      "[173]\ttrain-rmse:0.008192\tvalid-rmse:0.011628\n",
      "[174]\ttrain-rmse:0.008179\tvalid-rmse:0.011631\n",
      "[175]\ttrain-rmse:0.008166\tvalid-rmse:0.011622\n",
      "[176]\ttrain-rmse:0.008157\tvalid-rmse:0.01165\n",
      "[177]\ttrain-rmse:0.008147\tvalid-rmse:0.011649\n",
      "[178]\ttrain-rmse:0.008125\tvalid-rmse:0.011633\n"
     ]
    },
    {
     "name": "stdout",
     "output_type": "stream",
     "text": [
      "[179]\ttrain-rmse:0.008114\tvalid-rmse:0.011628\n",
      "[180]\ttrain-rmse:0.008101\tvalid-rmse:0.011606\n",
      "[181]\ttrain-rmse:0.008093\tvalid-rmse:0.011608\n",
      "[182]\ttrain-rmse:0.008083\tvalid-rmse:0.01161\n",
      "[183]\ttrain-rmse:0.008059\tvalid-rmse:0.011587\n",
      "[184]\ttrain-rmse:0.008046\tvalid-rmse:0.011559\n",
      "[185]\ttrain-rmse:0.008019\tvalid-rmse:0.011543\n",
      "[186]\ttrain-rmse:0.007993\tvalid-rmse:0.011537\n",
      "[187]\ttrain-rmse:0.007984\tvalid-rmse:0.011531\n",
      "[188]\ttrain-rmse:0.007966\tvalid-rmse:0.011547\n",
      "[189]\ttrain-rmse:0.007957\tvalid-rmse:0.011546\n",
      "[190]\ttrain-rmse:0.007945\tvalid-rmse:0.011525\n",
      "[191]\ttrain-rmse:0.007935\tvalid-rmse:0.011517\n",
      "[192]\ttrain-rmse:0.007927\tvalid-rmse:0.011516\n",
      "[193]\ttrain-rmse:0.00791\tvalid-rmse:0.011508\n",
      "[194]\ttrain-rmse:0.007899\tvalid-rmse:0.011494\n",
      "[195]\ttrain-rmse:0.007889\tvalid-rmse:0.011485\n",
      "[196]\ttrain-rmse:0.007882\tvalid-rmse:0.011493\n",
      "[197]\ttrain-rmse:0.007861\tvalid-rmse:0.011484\n",
      "[198]\ttrain-rmse:0.007852\tvalid-rmse:0.011476\n",
      "[199]\ttrain-rmse:0.007846\tvalid-rmse:0.011472\n",
      "[200]\ttrain-rmse:0.007834\tvalid-rmse:0.011472\n",
      "[201]\ttrain-rmse:0.007818\tvalid-rmse:0.011476\n",
      "[202]\ttrain-rmse:0.007805\tvalid-rmse:0.011474\n",
      "[203]\ttrain-rmse:0.007798\tvalid-rmse:0.011459\n",
      "[204]\ttrain-rmse:0.007783\tvalid-rmse:0.011468\n",
      "[205]\ttrain-rmse:0.007774\tvalid-rmse:0.011469\n",
      "[206]\ttrain-rmse:0.007765\tvalid-rmse:0.01147\n",
      "[207]\ttrain-rmse:0.00774\tvalid-rmse:0.011467\n",
      "[208]\ttrain-rmse:0.007732\tvalid-rmse:0.011452\n",
      "[209]\ttrain-rmse:0.007702\tvalid-rmse:0.011438\n",
      "[210]\ttrain-rmse:0.007694\tvalid-rmse:0.011428\n",
      "[211]\ttrain-rmse:0.007686\tvalid-rmse:0.011417\n",
      "[212]\ttrain-rmse:0.007677\tvalid-rmse:0.01142\n",
      "[213]\ttrain-rmse:0.007674\tvalid-rmse:0.011424\n",
      "[214]\ttrain-rmse:0.007659\tvalid-rmse:0.011438\n",
      "[215]\ttrain-rmse:0.007647\tvalid-rmse:0.011437\n",
      "[216]\ttrain-rmse:0.007641\tvalid-rmse:0.011432\n",
      "[217]\ttrain-rmse:0.007623\tvalid-rmse:0.011403\n",
      "[218]\ttrain-rmse:0.007585\tvalid-rmse:0.011385\n",
      "[219]\ttrain-rmse:0.007562\tvalid-rmse:0.011336\n",
      "[220]\ttrain-rmse:0.007552\tvalid-rmse:0.011354\n",
      "[221]\ttrain-rmse:0.007544\tvalid-rmse:0.011348\n",
      "[222]\ttrain-rmse:0.007533\tvalid-rmse:0.011355\n",
      "[223]\ttrain-rmse:0.007527\tvalid-rmse:0.011353\n",
      "[224]\ttrain-rmse:0.007517\tvalid-rmse:0.011339\n",
      "[225]\ttrain-rmse:0.007511\tvalid-rmse:0.011349\n",
      "[226]\ttrain-rmse:0.007501\tvalid-rmse:0.011351\n",
      "[227]\ttrain-rmse:0.007487\tvalid-rmse:0.011372\n",
      "[228]\ttrain-rmse:0.007479\tvalid-rmse:0.011371\n",
      "[229]\ttrain-rmse:0.007472\tvalid-rmse:0.011373\n",
      "Stopping. Best iteration:\n",
      "[219]\ttrain-rmse:0.007562\tvalid-rmse:0.011336\n",
      "\n",
      "Modeling RMSLE 0.01134\n"
     ]
    }
   ],
   "source": [
    "xgb_pars = {'min_child_weight': 50, 'eta': 0.1, 'colsample_bytree': 0.9, 'max_depth': 10,\n",
    "'subsample': 0.9, 'lambda': 1., 'nthread': -1, 'booster' : 'gbtree', 'silent': 1,\n",
    "'eval_metric': 'rmse', 'objective': 'reg:linear'}\n",
    "\n",
    "model = xgb.train(xgb_pars, dtrain, 1000, watchlist, early_stopping_rounds=10,\n",
    "      maximize=False, verbose_eval=1)\n",
    "\n",
    "print('Modeling RMSLE %.5f' % model.best_score)"
   ]
  },
  {
   "cell_type": "markdown",
   "metadata": {},
   "source": [
    "### Train/Validation Set Evaluation "
   ]
  },
  {
   "cell_type": "code",
   "execution_count": 462,
   "metadata": {
    "scrolled": true
   },
   "outputs": [
    {
     "data": {
      "text/plain": [
       "<matplotlib.axes._subplots.AxesSubplot at 0x19be0be56d8>"
      ]
     },
     "execution_count": 462,
     "metadata": {},
     "output_type": "execute_result"
    },
    {
     "data": {
      "image/png": "[encoded data removed]",
      "text/plain": [
       "<matplotlib.figure.Figure at 0x19be0c05e48>"
      ]
     },
     "metadata": {},
     "output_type": "display_data"
    }
   ],
   "source": [
    "xgb.plot_importance(model, height=0.3)"
   ]
  },
  {
   "cell_type": "markdown",
   "metadata": {},
   "source": [
    "### Prediction"
   ]
  },
  {
   "cell_type": "code",
   "execution_count": 463,
   "metadata": {
    "collapsed": true
   },
   "outputs": [],
   "source": [
    "# evaluate the model\n",
    "pred = model.predict(dtest)\n",
    "pred = np.exp(pred) - 1"
   ]
  },
  {
   "cell_type": "code",
   "execution_count": 465,
   "metadata": {},
   "outputs": [
    {
     "ename": "SyntaxError",
     "evalue": "invalid syntax (<ipython-input-465-f7698b9e7191>, line 1)",
     "output_type": "error",
     "traceback": [
      "\u001b[1;36m  File \u001b[1;32m\"<ipython-input-465-f7698b9e7191>\"\u001b[1;36m, line \u001b[1;32m1\u001b[0m\n\u001b[1;33m    y_pred <- predict(xgb, test.matrix(X_test[,-1]))\u001b[0m\n\u001b[1;37m                                              ^\u001b[0m\n\u001b[1;31mSyntaxError\u001b[0m\u001b[1;31m:\u001b[0m invalid syntax\n"
     ]
    }
   ],
   "source": [
    "y_pred <- predict(xgb, test.matrix(X_test[,-1]))"
   ]
  },
  {
   "cell_type": "code",
   "execution_count": 467,
   "metadata": {},
   "outputs": [
    {
     "data": {
      "text/plain": [
       "array([  0.43643856,   0.39877129,   0.21250212, ...,  18.8371315 ,\n",
       "        18.47843933,  18.75484848], dtype=float32)"
      ]
     },
     "execution_count": 467,
     "metadata": {},
     "output_type": "execute_result"
    }
   ],
   "source": [
    "pred"
   ]
  },
  {
   "cell_type": "code",
   "execution_count": null,
   "metadata": {
    "collapsed": true
   },
   "outputs": [],
   "source": []
  },
  {
   "cell_type": "code",
   "execution_count": 466,
   "metadata": {},
   "outputs": [
    {
     "data": {
      "text/plain": [
       "XGBClassifier(base_score=0.5, colsample_bylevel=1, colsample_bytree=1,\n",
       "       gamma=0, learning_rate=0.1, max_delta_step=0, max_depth=3,\n",
       "       min_child_weight=1, missing=None, n_estimators=100, nthread=-1,\n",
       "       objective='multi:softprob', reg_alpha=0, reg_lambda=1,\n",
       "       scale_pos_weight=1, seed=0, silent=True, subsample=1)"
      ]
     },
     "execution_count": 466,
     "metadata": {},
     "output_type": "execute_result"
    }
   ],
   "source": [
    "# fit model no training data\n",
    "model = xgb.XGBClassifier()\n",
    "model.fit(X_train, y_train)"
   ]
  },
  {
   "cell_type": "code",
   "execution_count": 468,
   "metadata": {
    "collapsed": true
   },
   "outputs": [],
   "source": [
    "# make predictions for test data\n",
    "Z_pred = model.predict(Z)"
   ]
  },
  {
   "cell_type": "code",
   "execution_count": 469,
   "metadata": {
    "collapsed": true
   },
   "outputs": [],
   "source": [
    "predictions = [round(value) for value in Z_pred]"
   ]
  },
  {
   "cell_type": "code",
   "execution_count": 472,
   "metadata": {},
   "outputs": [],
   "source": [
    "result = Z.copy()"
   ]
  },
  {
   "cell_type": "code",
   "execution_count": 473,
   "metadata": {
    "collapsed": true
   },
   "outputs": [],
   "source": [
    "result[\"DAMAGE\"] = predictions"
   ]
  },
  {
   "cell_type": "code",
   "execution_count": 474,
   "metadata": {
    "collapsed": true
   },
   "outputs": [],
   "source": [
    "result.to_excel(\"resultTest.xlsx\")"
   ]
  },
  {
   "cell_type": "code",
   "execution_count": 328,
   "metadata": {},
   "outputs": [
    {
     "name": "stdout",
     "output_type": "stream",
     "text": [
      "Accuracy: 100.00%\n"
     ]
    }
   ],
   "source": [
    "# evaluate predictions\n",
    "accuracy = accuracy_score(y_valid, predictions)\n",
    "print(\"Accuracy: %.2f%%\" % (accuracy * 100.0))"
   ]
  },
  {
   "cell_type": "code",
   "execution_count": null,
   "metadata": {
    "collapsed": true
   },
   "outputs": [],
   "source": []
  },
  {
   "cell_type": "code",
   "execution_count": null,
   "metadata": {
    "collapsed": true
   },
   "outputs": [],
   "source": []
  },
  {
   "cell_type": "markdown",
   "metadata": {},
   "source": [
    "### RandomTreeClassifier MODEL"
   ]
  },
  {
   "cell_type": "markdown",
   "metadata": {},
   "source": [
    "### Check feature importance"
   ]
  },
  {
   "cell_type": "code",
   "execution_count": 311,
   "metadata": {},
   "outputs": [],
   "source": [
    "clf = RandomForestClassifier(n_estimators=50, max_features='sqrt')\n",
    "clf = clf.fit(X,y)"
   ]
  },
  {
   "cell_type": "code",
   "execution_count": 312,
   "metadata": {
    "collapsed": true
   },
   "outputs": [],
   "source": [
    "features = pd.DataFrame()\n",
    "features['feature'] = X.columns\n",
    "features['importance'] = clf.feature_importances_\n",
    "features.sort_values(by=['importance'], ascending=True, inplace=True)\n",
    "features.set_index('feature', inplace=True)"
   ]
  },
  {
   "cell_type": "code",
   "execution_count": 313,
   "metadata": {},
   "outputs": [
    {
     "data": {
      "text/plain": [
       "<matplotlib.axes._subplots.AxesSubplot at 0x19bdd1ebba8>"
      ]
     },
     "execution_count": 313,
     "metadata": {},
     "output_type": "execute_result"
    },
    {
     "data": {
      "image/png": "[encoded data removed]",
      "text/plain": [
       "<matplotlib.figure.Figure at 0x19bdd6d3710>"
      ]
     },
     "metadata": {},
     "output_type": "display_data"
    }
   ],
   "source": [
    "features.plot(kind='barh', figsize=(20, 20))"
   ]
  },
  {
   "cell_type": "markdown",
   "metadata": {},
   "source": [
    "### Hyperparameter tuning"
   ]
  },
  {
   "cell_type": "code",
   "execution_count": 337,
   "metadata": {},
   "outputs": [
    {
     "data": {
      "text/plain": [
       "RandomForestClassifier(bootstrap=False, class_weight=None, criterion='gini',\n",
       "            max_depth=6, max_features='sqrt', max_leaf_nodes=None,\n",
       "            min_impurity_decrease=0.0, min_impurity_split=None,\n",
       "            min_samples_leaf=3, min_samples_split=10,\n",
       "            min_weight_fraction_leaf=0.0, n_estimators=50, n_jobs=1,\n",
       "            oob_score=False, random_state=None, verbose=0,\n",
       "            warm_start=False)"
      ]
     },
     "execution_count": 337,
     "metadata": {},
     "output_type": "execute_result"
    }
   ],
   "source": [
    "parameters = {'bootstrap': False, 'min_samples_leaf': 3, 'n_estimators': 50,\n",
    "'min_samples_split': 10, 'max_features': 'sqrt', 'max_depth': 6}\n",
    "model = RandomForestClassifier(**parameters)\n",
    "model.fit(X_train, y_train)"
   ]
  },
  {
   "cell_type": "code",
   "execution_count": 338,
   "metadata": {},
   "outputs": [
    {
     "name": "stderr",
     "output_type": "stream",
     "text": [
      "C:\\ProgramData\\Anaconda3\\lib\\site-packages\\sklearn\\cross_validation.py:553: Warning: The least populated class in y has only 2 members, which is too few. The minimum number of labels for any class cannot be less than n_folds=5.\n",
      "  % (min_labels, self.n_folds)), Warning)\n"
     ]
    },
    {
     "data": {
      "text/plain": [
       "0.96492604190029385"
      ]
     },
     "execution_count": 338,
     "metadata": {},
     "output_type": "execute_result"
    }
   ],
   "source": [
    "xval = cross_val_score(model, X_valid, y_valid, cv = 5, scoring='accuracy')\n",
    "np.mean(xval)"
   ]
  },
  {
   "cell_type": "code",
   "execution_count": 356,
   "metadata": {},
   "outputs": [],
   "source": [
    "p_y = model.predict(X_valid)"
   ]
  },
  {
   "cell_type": "code",
   "execution_count": 357,
   "metadata": {},
   "outputs": [
    {
     "data": {
      "text/plain": [
       "0.9953805198872534"
      ]
     },
     "execution_count": 357,
     "metadata": {},
     "output_type": "execute_result"
    }
   ],
   "source": [
    "np.mean(p_y == y_valid)"
   ]
  },
  {
   "cell_type": "markdown",
   "metadata": {},
   "source": [
    "***\n",
    "## 5. Predict the Test set"
   ]
  },
  {
   "cell_type": "markdown",
   "metadata": {},
   "source": [
    "### Select test model features "
   ]
  },
  {
   "cell_type": "markdown",
   "metadata": {},
   "source": [
    "### Make predictions "
   ]
  },
  {
   "cell_type": "markdown",
   "metadata": {},
   "source": [
    "***\n",
    "## 6. Save Results\n",
    "### Create the Solution "
   ]
  },
  {
   "cell_type": "code",
   "execution_count": null,
   "metadata": {
    "collapsed": true
   },
   "outputs": [],
   "source": [
    "my_solution.index.name"
   ]
  },
  {
   "cell_type": "markdown",
   "metadata": {},
   "source": [
    "### Save to CSV file "
   ]
  },
  {
   "cell_type": "code",
   "execution_count": null,
   "metadata": {
    "collapsed": true
   },
   "outputs": [],
   "source": [
    "my_solution.to_csv(\"my_solution_six.csv\")"
   ]
  },
  {
   "cell_type": "markdown",
   "metadata": {},
   "source": [
    " "
   ]
  },
  {
   "cell_type": "markdown",
   "metadata": {},
   "source": [
    "***\n",
    "***\n",
    "# Rough Work "
   ]
  },
  {
   "cell_type": "code",
   "execution_count": null,
   "metadata": {
    "collapsed": true
   },
   "outputs": [],
   "source": [
    "%matplotlib inline"
   ]
  },
  {
   "cell_type": "code",
   "execution_count": null,
   "metadata": {
    "collapsed": true
   },
   "outputs": [],
   "source": []
  }
 ],
 "metadata": {
  "kernelspec": {
   "display_name": "Python 3",
   "language": "python",
   "name": "python3"
  },
  "language_info": {
   "codemirror_mode": {
    "name": "ipython",
    "version": 3
   },
   "file_extension": ".py",
   "mimetype": "text/x-python",
   "name": "python",
   "nbconvert_exporter": "python",
   "pygments_lexer": "ipython3",
   "version": "3.5.4"
  }
 },
 "nbformat": 4,
 "nbformat_minor": 2
}
