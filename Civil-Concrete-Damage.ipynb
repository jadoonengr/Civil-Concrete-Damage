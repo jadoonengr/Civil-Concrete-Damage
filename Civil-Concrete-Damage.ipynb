{
 "cells": [
  {
   "cell_type": "markdown",
   "metadata": {},
   "source": [
    "# Civil Engineering Machine Learning Project\n",
    "## Damage evaluation of reinforced concrete beams with varying thickness using the acoustic emission technique\n"
   ]
  },
  {
   "cell_type": "markdown",
   "metadata": {},
   "source": [
    "***\n",
    "## 1. Data Extraction"
   ]
  },
  {
   "cell_type": "code",
   "execution_count": 62,
   "metadata": {},
   "outputs": [
    {
     "data": {
      "text/plain": [
       "'\\nCreated on Tue Jul 18 03:12:39 2017\\n\\n@author: Aamir\\n'"
      ]
     },
     "execution_count": 62,
     "metadata": {},
     "output_type": "execute_result"
    }
   ],
   "source": [
    "\"\"\"\n",
    "Created on Tue Jul 18 03:12:39 2017\n",
    "\n",
    "@author: Aamir\n",
    "\"\"\""
   ]
  },
  {
   "cell_type": "markdown",
   "metadata": {},
   "source": [
    "### Import Libraries"
   ]
  },
  {
   "cell_type": "code",
   "execution_count": 63,
   "metadata": {},
   "outputs": [],
   "source": [
    "\n",
    "import os\n",
    "import scipy.io\n",
    "import numpy as np\n",
    "import pandas as pd\n",
    "import keras\n",
    "from keras.layers import Dense\n",
    "from keras.models import Sequential\n",
    "from keras.models import load_model\n",
    "from keras.optimizers import SGD\n",
    "from keras.callbacks import EarlyStopping"
   ]
  },
  {
   "cell_type": "markdown",
   "metadata": {},
   "source": [
    "### Import and select relevant data "
   ]
  },
  {
   "cell_type": "code",
   "execution_count": 64,
   "metadata": {
    "collapsed": true
   },
   "outputs": [],
   "source": [
    "data = pd.read_excel(\"concrete-damage-data.xlsx\")\n",
    "data = data.iloc[:,[4, 5, 6, 7, 8, 9, 10, 17, 18, 19]]\n",
    "data = data.dropna()\n",
    "data.reset_index(drop=True,inplace=True)"
   ]
  },
  {
   "cell_type": "markdown",
   "metadata": {},
   "source": [
    "### Check data frame structure "
   ]
  },
  {
   "cell_type": "code",
   "execution_count": 65,
   "metadata": {},
   "outputs": [
    {
     "data": {
      "text/plain": [
       "(82873, 10)"
      ]
     },
     "execution_count": 65,
     "metadata": {},
     "output_type": "execute_result"
    }
   ],
   "source": [
    "data.shape"
   ]
  },
  {
   "cell_type": "code",
   "execution_count": 66,
   "metadata": {
    "scrolled": true
   },
   "outputs": [
    {
     "data": {
      "text/plain": [
       "CH              object\n",
       "RISE            object\n",
       "COUN            object\n",
       "ENER            object\n",
       "DURATION        object\n",
       "AMP             object\n",
       "A_FRQ           object\n",
       "SIG_STRNGTH     object\n",
       "ABS_ENERGY      object\n",
       "DAMAGE         float64\n",
       "dtype: object"
      ]
     },
     "execution_count": 66,
     "metadata": {},
     "output_type": "execute_result"
    }
   ],
   "source": [
    "data.dtypes"
   ]
  },
  {
   "cell_type": "code",
   "execution_count": 67,
   "metadata": {},
   "outputs": [
    {
     "data": {
      "text/html": [
       "<div>\n",
       "<style>\n",
       "    .dataframe thead tr:only-child th {\n",
       "        text-align: right;\n",
       "    }\n",
       "\n",
       "    .dataframe thead th {\n",
       "        text-align: left;\n",
       "    }\n",
       "\n",
       "    .dataframe tbody tr th {\n",
       "        vertical-align: top;\n",
       "    }\n",
       "</style>\n",
       "<table border=\"1\" class=\"dataframe\">\n",
       "  <thead>\n",
       "    <tr style=\"text-align: right;\">\n",
       "      <th></th>\n",
       "      <th>CH</th>\n",
       "      <th>RISE</th>\n",
       "      <th>COUN</th>\n",
       "      <th>ENER</th>\n",
       "      <th>DURATION</th>\n",
       "      <th>AMP</th>\n",
       "      <th>A_FRQ</th>\n",
       "      <th>SIG_STRNGTH</th>\n",
       "      <th>ABS_ENERGY</th>\n",
       "      <th>DAMAGE</th>\n",
       "    </tr>\n",
       "  </thead>\n",
       "  <tbody>\n",
       "    <tr>\n",
       "      <th>0</th>\n",
       "      <td>4</td>\n",
       "      <td>9</td>\n",
       "      <td>5</td>\n",
       "      <td>2</td>\n",
       "      <td>114</td>\n",
       "      <td>52</td>\n",
       "      <td>44</td>\n",
       "      <td>14372</td>\n",
       "      <td>260.846</td>\n",
       "      <td>0.0</td>\n",
       "    </tr>\n",
       "    <tr>\n",
       "      <th>1</th>\n",
       "      <td>3</td>\n",
       "      <td>1</td>\n",
       "      <td>1</td>\n",
       "      <td>0</td>\n",
       "      <td>1</td>\n",
       "      <td>45</td>\n",
       "      <td>1000</td>\n",
       "      <td>115.9</td>\n",
       "      <td>2.124</td>\n",
       "      <td>0.0</td>\n",
       "    </tr>\n",
       "    <tr>\n",
       "      <th>2</th>\n",
       "      <td>3</td>\n",
       "      <td>23</td>\n",
       "      <td>3</td>\n",
       "      <td>1</td>\n",
       "      <td>69</td>\n",
       "      <td>48</td>\n",
       "      <td>43</td>\n",
       "      <td>7241</td>\n",
       "      <td>107.876</td>\n",
       "      <td>0.0</td>\n",
       "    </tr>\n",
       "    <tr>\n",
       "      <th>3</th>\n",
       "      <td>4</td>\n",
       "      <td>1</td>\n",
       "      <td>2</td>\n",
       "      <td>1</td>\n",
       "      <td>79</td>\n",
       "      <td>46</td>\n",
       "      <td>25</td>\n",
       "      <td>7024</td>\n",
       "      <td>85.976</td>\n",
       "      <td>0.0</td>\n",
       "    </tr>\n",
       "    <tr>\n",
       "      <th>4</th>\n",
       "      <td>3</td>\n",
       "      <td>22</td>\n",
       "      <td>3</td>\n",
       "      <td>1</td>\n",
       "      <td>86</td>\n",
       "      <td>48</td>\n",
       "      <td>35</td>\n",
       "      <td>9022</td>\n",
       "      <td>133.646</td>\n",
       "      <td>0.0</td>\n",
       "    </tr>\n",
       "  </tbody>\n",
       "</table>\n",
       "</div>"
      ],
      "text/plain": [
       "  CH RISE COUN ENER DURATION AMP A_FRQ SIG_STRNGTH ABS_ENERGY  DAMAGE\n",
       "0  4    9    5    2      114  52    44       14372    260.846     0.0\n",
       "1  3    1    1    0        1  45  1000       115.9      2.124     0.0\n",
       "2  3   23    3    1       69  48    43        7241    107.876     0.0\n",
       "3  4    1    2    1       79  46    25        7024     85.976     0.0\n",
       "4  3   22    3    1       86  48    35        9022    133.646     0.0"
      ]
     },
     "execution_count": 67,
     "metadata": {},
     "output_type": "execute_result"
    }
   ],
   "source": [
    "data.head()"
   ]
  },
  {
   "cell_type": "markdown",
   "metadata": {},
   "source": [
    "***\n",
    "## 2. Data Cleaning\n",
    "### Check and fill missing values "
   ]
  },
  {
   "cell_type": "code",
   "execution_count": 68,
   "metadata": {},
   "outputs": [
    {
     "data": {
      "text/plain": [
       "CH             82873\n",
       "RISE           82873\n",
       "COUN           82873\n",
       "ENER           82873\n",
       "DURATION       82873\n",
       "AMP            82873\n",
       "A_FRQ          82873\n",
       "SIG_STRNGTH    82873\n",
       "ABS_ENERGY     82873\n",
       "DAMAGE         82873\n",
       "dtype: int64"
      ]
     },
     "execution_count": 68,
     "metadata": {},
     "output_type": "execute_result"
    }
   ],
   "source": [
    "data.count()"
   ]
  },
  {
   "cell_type": "markdown",
   "metadata": {},
   "source": [
    "No missing data. Incomplete entries have already been removed."
   ]
  },
  {
   "cell_type": "markdown",
   "metadata": {},
   "source": [
    "### Convert to numeric columns "
   ]
  },
  {
   "cell_type": "code",
   "execution_count": 69,
   "metadata": {},
   "outputs": [
    {
     "data": {
      "text/plain": [
       "CH               int32\n",
       "RISE             int32\n",
       "COUN             int32\n",
       "ENER             int32\n",
       "DURATION         int32\n",
       "AMP              int32\n",
       "A_FRQ            int32\n",
       "SIG_STRNGTH    float64\n",
       "ABS_ENERGY     float64\n",
       "DAMAGE           int32\n",
       "dtype: object"
      ]
     },
     "execution_count": 69,
     "metadata": {},
     "output_type": "execute_result"
    }
   ],
   "source": [
    "data['CH'] = data['CH'].astype(int)\n",
    "data['RISE'] = data['RISE'].astype(int)\n",
    "data['COUN'] = data['COUN'].astype(int)\n",
    "data['ENER'] = data['ENER'].astype(int)\n",
    "data['DURATION'] = data['DURATION'].astype(int)\n",
    "data['AMP'] = data['AMP'].astype(int)\n",
    "data['A_FRQ'] = data['A_FRQ'].astype(int)\n",
    "data['SIG_STRNGTH'] = data['SIG_STRNGTH'].astype(float)\n",
    "data['ABS_ENERGY'] = data['ABS_ENERGY'].astype(float)\n",
    "data['DAMAGE'] = data['DAMAGE'].astype(int)\n",
    "\n",
    "data.dtypes"
   ]
  },
  {
   "cell_type": "code",
   "execution_count": 70,
   "metadata": {
    "collapsed": true
   },
   "outputs": [],
   "source": [
    "data.to_excel(\"Aamirdata.xlsx\")"
   ]
  },
  {
   "cell_type": "code",
   "execution_count": 71,
   "metadata": {},
   "outputs": [
    {
     "data": {
      "text/html": [
       "<div>\n",
       "<style>\n",
       "    .dataframe thead tr:only-child th {\n",
       "        text-align: right;\n",
       "    }\n",
       "\n",
       "    .dataframe thead th {\n",
       "        text-align: left;\n",
       "    }\n",
       "\n",
       "    .dataframe tbody tr th {\n",
       "        vertical-align: top;\n",
       "    }\n",
       "</style>\n",
       "<table border=\"1\" class=\"dataframe\">\n",
       "  <thead>\n",
       "    <tr style=\"text-align: right;\">\n",
       "      <th></th>\n",
       "      <th>CH</th>\n",
       "      <th>RISE</th>\n",
       "      <th>COUN</th>\n",
       "      <th>ENER</th>\n",
       "      <th>DURATION</th>\n",
       "      <th>AMP</th>\n",
       "      <th>A_FRQ</th>\n",
       "      <th>SIG_STRNGTH</th>\n",
       "      <th>ABS_ENERGY</th>\n",
       "      <th>DAMAGE</th>\n",
       "    </tr>\n",
       "  </thead>\n",
       "  <tbody>\n",
       "    <tr>\n",
       "      <th>0</th>\n",
       "      <td>4</td>\n",
       "      <td>9</td>\n",
       "      <td>5</td>\n",
       "      <td>2</td>\n",
       "      <td>114</td>\n",
       "      <td>52</td>\n",
       "      <td>44</td>\n",
       "      <td>14372.0</td>\n",
       "      <td>260.846</td>\n",
       "      <td>0</td>\n",
       "    </tr>\n",
       "    <tr>\n",
       "      <th>1</th>\n",
       "      <td>3</td>\n",
       "      <td>1</td>\n",
       "      <td>1</td>\n",
       "      <td>0</td>\n",
       "      <td>1</td>\n",
       "      <td>45</td>\n",
       "      <td>1000</td>\n",
       "      <td>115.9</td>\n",
       "      <td>2.124</td>\n",
       "      <td>0</td>\n",
       "    </tr>\n",
       "    <tr>\n",
       "      <th>2</th>\n",
       "      <td>3</td>\n",
       "      <td>23</td>\n",
       "      <td>3</td>\n",
       "      <td>1</td>\n",
       "      <td>69</td>\n",
       "      <td>48</td>\n",
       "      <td>43</td>\n",
       "      <td>7241.0</td>\n",
       "      <td>107.876</td>\n",
       "      <td>0</td>\n",
       "    </tr>\n",
       "    <tr>\n",
       "      <th>3</th>\n",
       "      <td>4</td>\n",
       "      <td>1</td>\n",
       "      <td>2</td>\n",
       "      <td>1</td>\n",
       "      <td>79</td>\n",
       "      <td>46</td>\n",
       "      <td>25</td>\n",
       "      <td>7024.0</td>\n",
       "      <td>85.976</td>\n",
       "      <td>0</td>\n",
       "    </tr>\n",
       "    <tr>\n",
       "      <th>4</th>\n",
       "      <td>3</td>\n",
       "      <td>22</td>\n",
       "      <td>3</td>\n",
       "      <td>1</td>\n",
       "      <td>86</td>\n",
       "      <td>48</td>\n",
       "      <td>35</td>\n",
       "      <td>9022.0</td>\n",
       "      <td>133.646</td>\n",
       "      <td>0</td>\n",
       "    </tr>\n",
       "  </tbody>\n",
       "</table>\n",
       "</div>"
      ],
      "text/plain": [
       "   CH  RISE  COUN  ENER  DURATION  AMP  A_FRQ  SIG_STRNGTH  ABS_ENERGY  DAMAGE\n",
       "0   4     9     5     2       114   52     44      14372.0     260.846       0\n",
       "1   3     1     1     0         1   45   1000        115.9       2.124       0\n",
       "2   3    23     3     1        69   48     43       7241.0     107.876       0\n",
       "3   4     1     2     1        79   46     25       7024.0      85.976       0\n",
       "4   3    22     3     1        86   48     35       9022.0     133.646       0"
      ]
     },
     "execution_count": 71,
     "metadata": {},
     "output_type": "execute_result"
    }
   ],
   "source": [
    "data.head()"
   ]
  },
  {
   "cell_type": "markdown",
   "metadata": {},
   "source": [
    "### Normalize Data"
   ]
  },
  {
   "cell_type": "code",
   "execution_count": 72,
   "metadata": {},
   "outputs": [],
   "source": [
    "mn = pd.DataFrame.mean(data)\n",
    "vr = pd.DataFrame.var(data)"
   ]
  },
  {
   "cell_type": "code",
   "execution_count": 73,
   "metadata": {},
   "outputs": [],
   "source": [
    "data.RISE = (data.RISE - mn.RISE) / vr.RISE\n",
    "data.COUN = (data.COUN - mn.COUN) / vr.COUN\n",
    "data.ENER = (data.ENER - mn.ENER) / vr.ENER\n",
    "data.DURATION = (data.DURATION - mn.DURATION) / vr.DURATION\n",
    "data.AMP = (data.AMP - mn.AMP) / vr.AMP\n",
    "data.A_FRQ = (data.A_FRQ - mn.A_FRQ) / vr.A_FRQ\n",
    "data.SIG_STRNGTH = (data.SIG_STRNGTH - mn.SIG_STRNGTH) / vr.SIG_STRNGTH\n",
    "data.ABS_ENERGY = (data.ABS_ENERGY - mn.ABS_ENERGY) / vr.ABS_ENERGY"
   ]
  },
  {
   "cell_type": "code",
   "execution_count": 74,
   "metadata": {},
   "outputs": [
    {
     "data": {
      "text/html": [
       "<div>\n",
       "<style>\n",
       "    .dataframe thead tr:only-child th {\n",
       "        text-align: right;\n",
       "    }\n",
       "\n",
       "    .dataframe thead th {\n",
       "        text-align: left;\n",
       "    }\n",
       "\n",
       "    .dataframe tbody tr th {\n",
       "        vertical-align: top;\n",
       "    }\n",
       "</style>\n",
       "<table border=\"1\" class=\"dataframe\">\n",
       "  <thead>\n",
       "    <tr style=\"text-align: right;\">\n",
       "      <th></th>\n",
       "      <th>CH</th>\n",
       "      <th>RISE</th>\n",
       "      <th>COUN</th>\n",
       "      <th>ENER</th>\n",
       "      <th>DURATION</th>\n",
       "      <th>AMP</th>\n",
       "      <th>A_FRQ</th>\n",
       "      <th>SIG_STRNGTH</th>\n",
       "      <th>ABS_ENERGY</th>\n",
       "      <th>DAMAGE</th>\n",
       "    </tr>\n",
       "  </thead>\n",
       "  <tbody>\n",
       "    <tr>\n",
       "      <th>0</th>\n",
       "      <td>4</td>\n",
       "      <td>-0.000108</td>\n",
       "      <td>-0.000432</td>\n",
       "      <td>-0.000407</td>\n",
       "      <td>-0.000019</td>\n",
       "      <td>-0.022753</td>\n",
       "      <td>-0.000936</td>\n",
       "      <td>-6.540712e-08</td>\n",
       "      <td>-8.322200e-08</td>\n",
       "      <td>0</td>\n",
       "    </tr>\n",
       "    <tr>\n",
       "      <th>1</th>\n",
       "      <td>3</td>\n",
       "      <td>-0.000109</td>\n",
       "      <td>-0.000480</td>\n",
       "      <td>-0.000426</td>\n",
       "      <td>-0.000020</td>\n",
       "      <td>-0.143455</td>\n",
       "      <td>0.014636</td>\n",
       "      <td>-6.886812e-08</td>\n",
       "      <td>-8.384964e-08</td>\n",
       "      <td>0</td>\n",
       "    </tr>\n",
       "    <tr>\n",
       "      <th>2</th>\n",
       "      <td>3</td>\n",
       "      <td>-0.000106</td>\n",
       "      <td>-0.000456</td>\n",
       "      <td>-0.000417</td>\n",
       "      <td>-0.000020</td>\n",
       "      <td>-0.091726</td>\n",
       "      <td>-0.000952</td>\n",
       "      <td>-6.713834e-08</td>\n",
       "      <td>-8.359309e-08</td>\n",
       "      <td>0</td>\n",
       "    </tr>\n",
       "    <tr>\n",
       "      <th>3</th>\n",
       "      <td>4</td>\n",
       "      <td>-0.000109</td>\n",
       "      <td>-0.000468</td>\n",
       "      <td>-0.000417</td>\n",
       "      <td>-0.000020</td>\n",
       "      <td>-0.126212</td>\n",
       "      <td>-0.001245</td>\n",
       "      <td>-6.719102e-08</td>\n",
       "      <td>-8.364622e-08</td>\n",
       "      <td>0</td>\n",
       "    </tr>\n",
       "    <tr>\n",
       "      <th>4</th>\n",
       "      <td>3</td>\n",
       "      <td>-0.000106</td>\n",
       "      <td>-0.000456</td>\n",
       "      <td>-0.000417</td>\n",
       "      <td>-0.000020</td>\n",
       "      <td>-0.091726</td>\n",
       "      <td>-0.001082</td>\n",
       "      <td>-6.670596e-08</td>\n",
       "      <td>-8.353058e-08</td>\n",
       "      <td>0</td>\n",
       "    </tr>\n",
       "  </tbody>\n",
       "</table>\n",
       "</div>"
      ],
      "text/plain": [
       "   CH      RISE      COUN      ENER  DURATION       AMP     A_FRQ  \\\n",
       "0   4 -0.000108 -0.000432 -0.000407 -0.000019 -0.022753 -0.000936   \n",
       "1   3 -0.000109 -0.000480 -0.000426 -0.000020 -0.143455  0.014636   \n",
       "2   3 -0.000106 -0.000456 -0.000417 -0.000020 -0.091726 -0.000952   \n",
       "3   4 -0.000109 -0.000468 -0.000417 -0.000020 -0.126212 -0.001245   \n",
       "4   3 -0.000106 -0.000456 -0.000417 -0.000020 -0.091726 -0.001082   \n",
       "\n",
       "    SIG_STRNGTH    ABS_ENERGY  DAMAGE  \n",
       "0 -6.540712e-08 -8.322200e-08       0  \n",
       "1 -6.886812e-08 -8.384964e-08       0  \n",
       "2 -6.713834e-08 -8.359309e-08       0  \n",
       "3 -6.719102e-08 -8.364622e-08       0  \n",
       "4 -6.670596e-08 -8.353058e-08       0  "
      ]
     },
     "execution_count": 74,
     "metadata": {},
     "output_type": "execute_result"
    }
   ],
   "source": [
    "data.head()"
   ]
  },
  {
   "cell_type": "code",
   "execution_count": 75,
   "metadata": {},
   "outputs": [],
   "source": [
    "predictors = np.array(data)\n",
    "target = np.eye(4)[data['DAMAGE'].astype(int)]\n",
    "n_cols = predictors.shape[1]"
   ]
  },
  {
   "cell_type": "markdown",
   "metadata": {},
   "source": [
    "***\n",
    "## 3. Train and Evaluate the Model\n",
    "### Set target, features to train model "
   ]
  },
  {
   "cell_type": "markdown",
   "metadata": {},
   "source": [
    "### Specify the model"
   ]
  },
  {
   "cell_type": "code",
   "execution_count": 77,
   "metadata": {},
   "outputs": [
    {
     "name": "stdout",
     "output_type": "stream",
     "text": [
      "Train on 58011 samples, validate on 24862 samples\n",
      "Epoch 1/100\n",
      "58011/58011 [==============================] - 6s - loss: 0.6345 - acc: 0.7644 - val_loss: 0.1570 - val_acc: 1.0000\n",
      "Epoch 2/100\n",
      "58011/58011 [==============================] - 5s - loss: 0.0065 - acc: 0.9998 - val_loss: 0.0022 - val_acc: 1.0000\n",
      "Epoch 3/100\n",
      "58011/58011 [==============================] - 5s - loss: 0.0027 - acc: 0.9997 - val_loss: 9.5068e-04 - val_acc: 1.0000\n",
      "Epoch 4/100\n",
      "58011/58011 [==============================] - 5s - loss: 0.0023 - acc: 0.9998 - val_loss: 5.7264e-04 - val_acc: 1.0000\n",
      "Epoch 5/100\n",
      "58011/58011 [==============================] - 5s - loss: 0.0022 - acc: 0.9998 - val_loss: 4.1161e-04 - val_acc: 1.0000\n",
      "Epoch 6/100\n",
      "58011/58011 [==============================] - 5s - loss: 0.0021 - acc: 0.9998 - val_loss: 3.0965e-04 - val_acc: 1.0000\n",
      "Epoch 7/100\n",
      "58011/58011 [==============================] - 5s - loss: 0.0020 - acc: 0.9998 - val_loss: 2.5516e-04 - val_acc: 1.0000\n",
      "Epoch 8/100\n",
      "58011/58011 [==============================] - 5s - loss: 0.0018 - acc: 0.9998 - val_loss: 2.1620e-04 - val_acc: 1.0000\n",
      "Epoch 9/100\n",
      "58011/58011 [==============================] - 5s - loss: 0.0016 - acc: 0.9998 - val_loss: 1.9101e-04 - val_acc: 1.0000\n",
      "Epoch 10/100\n",
      "58011/58011 [==============================] - 5s - loss: 0.0017 - acc: 0.9998 - val_loss: 1.6354e-04 - val_acc: 1.0000\n",
      "Epoch 11/100\n",
      "58011/58011 [==============================] - 6s - loss: 0.0015 - acc: 0.9998 - val_loss: 1.4768e-04 - val_acc: 1.0000\n",
      "Epoch 12/100\n",
      "58011/58011 [==============================] - 5s - loss: 0.0014 - acc: 0.9998 - val_loss: 1.3336e-04 - val_acc: 1.0000\n",
      "Epoch 13/100\n",
      "58011/58011 [==============================] - 5s - loss: 0.0012 - acc: 0.9998 - val_loss: 1.2775e-04 - val_acc: 1.0000\n",
      "Epoch 14/100\n",
      "58011/58011 [==============================] - 6s - loss: 8.8012e-04 - acc: 0.9998 - val_loss: 1.1143e-04 - val_acc: 1.0000\n",
      "Epoch 15/100\n",
      "58011/58011 [==============================] - 6s - loss: 5.2082e-04 - acc: 0.9998 - val_loss: 1.0912e-04 - val_acc: 1.0000\n",
      "Epoch 16/100\n",
      "58011/58011 [==============================] - 8s - loss: 2.4661e-04 - acc: 0.9999 - val_loss: 1.0184e-04 - val_acc: 1.0000\n",
      "Epoch 17/100\n",
      "58011/58011 [==============================] - 8s - loss: 1.3330e-04 - acc: 1.0000 - val_loss: 9.8581e-05 - val_acc: 1.0000\n",
      "Epoch 18/100\n",
      "58011/58011 [==============================] - 8s - loss: 9.2215e-05 - acc: 1.0000 - val_loss: 9.1496e-05 - val_acc: 1.0000\n",
      "Epoch 19/100\n",
      "58011/58011 [==============================] - 10s - loss: 7.2864e-05 - acc: 1.0000 - val_loss: 8.4314e-05 - val_acc: 1.0000\n",
      "Epoch 20/100\n",
      "58011/58011 [==============================] - 10s - loss: 5.7695e-05 - acc: 1.0000 - val_loss: 7.8776e-05 - val_acc: 1.0000\n",
      "Epoch 21/100\n",
      "58011/58011 [==============================] - 11s - loss: 4.7727e-05 - acc: 1.0000 - val_loss: 7.3558e-05 - val_acc: 1.0000\n",
      "Epoch 22/100\n",
      "58011/58011 [==============================] - 10s - loss: 4.2099e-05 - acc: 1.0000 - val_loss: 6.9419e-05 - val_acc: 1.0000\n",
      "Epoch 23/100\n",
      "58011/58011 [==============================] - 11s - loss: 3.6862e-05 - acc: 1.0000 - val_loss: 6.5052e-05 - val_acc: 1.0000\n",
      "Epoch 24/100\n",
      "58011/58011 [==============================] - 8s - loss: 3.3326e-05 - acc: 1.0000 - val_loss: 6.1086e-05 - val_acc: 1.0000\n",
      "Epoch 25/100\n",
      "58011/58011 [==============================] - 8s - loss: 2.9877e-05 - acc: 1.0000 - val_loss: 5.7257e-05 - val_acc: 1.0000\n",
      "Epoch 26/100\n",
      "58011/58011 [==============================] - 8s - loss: 2.7414e-05 - acc: 1.0000 - val_loss: 5.4396e-05 - val_acc: 1.0000\n",
      "Epoch 27/100\n",
      "58011/58011 [==============================] - 8s - loss: 2.5226e-05 - acc: 1.0000 - val_loss: 5.1401e-05 - val_acc: 1.0000\n",
      "Epoch 28/100\n",
      "58011/58011 [==============================] - 8s - loss: 2.3436e-05 - acc: 1.0000 - val_loss: 4.8795e-05 - val_acc: 1.0000\n",
      "Epoch 29/100\n",
      "58011/58011 [==============================] - 12s - loss: 2.1862e-05 - acc: 1.0000 - val_loss: 4.6384e-05 - val_acc: 1.0000\n",
      "Epoch 30/100\n",
      "58011/58011 [==============================] - 13s - loss: 2.0463e-05 - acc: 1.0000 - val_loss: 4.4281e-05 - val_acc: 1.0000\n",
      "Epoch 31/100\n",
      "58011/58011 [==============================] - 17s - loss: 1.9201e-05 - acc: 1.0000 - val_loss: 4.2112e-05 - val_acc: 1.0000\n",
      "Epoch 32/100\n",
      "58011/58011 [==============================] - 18s - loss: 1.8170e-05 - acc: 1.0000 - val_loss: 4.0330e-05 - val_acc: 1.0000\n",
      "Epoch 33/100\n",
      "58011/58011 [==============================] - 19s - loss: 1.7168e-05 - acc: 1.0000 - val_loss: 3.8761e-05 - val_acc: 1.0000\n",
      "Epoch 34/100\n",
      "58011/58011 [==============================] - 19s - loss: 1.6304e-05 - acc: 1.0000 - val_loss: 3.6948e-05 - val_acc: 1.0000\n",
      "Epoch 35/100\n",
      "58011/58011 [==============================] - 27s - loss: 1.5530e-05 - acc: 1.0000 - val_loss: 3.5439e-05 - val_acc: 1.0000.0\n",
      "Epoch 36/100\n",
      "58011/58011 [==============================] - 22s - loss: 1.4821e-05 - acc: 1.0000 - val_loss: 3.4091e-05 - val_acc: 1.0000\n",
      "Epoch 37/100\n",
      "58011/58011 [==============================] - 21s - loss: 1.4189e-05 - acc: 1.0000 - val_loss: 3.2897e-05 - val_acc: 1.0000\n",
      "Epoch 38/100\n",
      "58011/58011 [==============================] - 29s - loss: 1.3581e-05 - acc: 1.0000 - val_loss: 3.1614e-05 - val_acc: 1.0000\n",
      "Epoch 39/100\n",
      "58011/58011 [==============================] - 24s - loss: 1.3051e-05 - acc: 1.0000 - val_loss: 3.0527e-05 - val_acc: 1.0000\n",
      "Epoch 40/100\n",
      "58011/58011 [==============================] - 22s - loss: 1.2552e-05 - acc: 1.0000 - val_loss: 2.9571e-05 - val_acc: 1.0000\n",
      "Epoch 41/100\n",
      "58011/58011 [==============================] - 27s - loss: 1.2064e-05 - acc: 1.0000 - val_loss: 2.8513e-05 - val_acc: 1.0000\n",
      "Epoch 42/100\n",
      "58011/58011 [==============================] - 19s - loss: 1.1610e-05 - acc: 1.0000 - val_loss: 2.7633e-05 - val_acc: 1.0000\n",
      "Epoch 43/100\n",
      "58011/58011 [==============================] - 13s - loss: 1.1223e-05 - acc: 1.0000 - val_loss: 2.6775e-05 - val_acc: 1.0000\n",
      "Epoch 44/100\n",
      "58011/58011 [==============================] - 16s - loss: 1.0836e-05 - acc: 1.0000 - val_loss: 2.5933e-05 - val_acc: 1.0000\n",
      "Epoch 45/100\n",
      "58011/58011 [==============================] - 15s - loss: 1.0466e-05 - acc: 1.0000 - val_loss: 2.5194e-05 - val_acc: 1.0000\n",
      "Epoch 46/100\n",
      "58011/58011 [==============================] - 14s - loss: 1.0148e-05 - acc: 1.0000 - val_loss: 2.4496e-05 - val_acc: 1.0000\n",
      "Epoch 47/100\n",
      "58011/58011 [==============================] - 16s - loss: 9.8229e-06 - acc: 1.0000 - val_loss: 2.3772e-05 - val_acc: 1.0000\n",
      "Epoch 48/100\n",
      "58011/58011 [==============================] - 15s - loss: 9.5281e-06 - acc: 1.0000 - val_loss: 2.3115e-05 - val_acc: 1.0000\n",
      "Epoch 49/100\n",
      "58011/58011 [==============================] - 14s - loss: 9.2393e-06 - acc: 1.0000 - val_loss: 2.2493e-05 - val_acc: 1.0000\n",
      "Epoch 50/100\n",
      "58011/58011 [==============================] - 15s - loss: 8.9824e-06 - acc: 1.0000 - val_loss: 2.1935e-05 - val_acc: 1.0000\n",
      "Epoch 51/100\n",
      "58011/58011 [==============================] - 14s - loss: 8.7248e-06 - acc: 1.0000 - val_loss: 2.1336e-05 - val_acc: 1.0000\n",
      "Epoch 52/100\n",
      "58011/58011 [==============================] - 15s - loss: 8.4862e-06 - acc: 1.0000 - val_loss: 2.0824e-05 - val_acc: 1.0000\n",
      "Epoch 53/100\n",
      "58011/58011 [==============================] - 15s - loss: 8.2567e-06 - acc: 1.0000 - val_loss: 2.0322e-05 - val_acc: 1.0000\n",
      "Epoch 54/100\n",
      "58011/58011 [==============================] - 25s - loss: 8.0414e-06 - acc: 1.0000 - val_loss: 1.9829e-05 - val_acc: 1.0000\n",
      "Epoch 55/100\n",
      "58011/58011 [==============================] - 21s - loss: 7.8399e-06 - acc: 1.0000 - val_loss: 1.9345e-05 - val_acc: 1.0000\n",
      "Epoch 56/100\n",
      "58011/58011 [==============================] - 15s - loss: 7.6416e-06 - acc: 1.0000 - val_loss: 1.8911e-05 - val_acc: 1.0000\n",
      "Epoch 57/100\n",
      "58011/58011 [==============================] - 18s - loss: 7.4503e-06 - acc: 1.0000 - val_loss: 1.8523e-05 - val_acc: 1.0000\n",
      "Epoch 58/100\n",
      "58011/58011 [==============================] - 15s - loss: 7.2741e-06 - acc: 1.0000 - val_loss: 1.8084e-05 - val_acc: 1.0000\n",
      "Epoch 59/100\n",
      "58011/58011 [==============================] - 23s - loss: 7.1036e-06 - acc: 1.0000 - val_loss: 1.7661e-05 - val_acc: 1.0000\n",
      "Epoch 60/100\n"
     ]
    },
    {
     "name": "stdout",
     "output_type": "stream",
     "text": [
      "58011/58011 [==============================] - 18s - loss: 6.9437e-06 - acc: 1.0000 - val_loss: 1.7280e-05 - val_acc: 1.0000\n",
      "Epoch 61/100\n",
      "58011/58011 [==============================] - 20s - loss: 6.7862e-06 - acc: 1.0000 - val_loss: 1.6942e-05 - val_acc: 1.0000\n",
      "Epoch 62/100\n",
      "58011/58011 [==============================] - 19s - loss: 6.6332e-06 - acc: 1.0000 - val_loss: 1.6627e-05 - val_acc: 1.0000\n",
      "Epoch 63/100\n",
      "58011/58011 [==============================] - 9s - loss: 6.4896e-06 - acc: 1.0000 - val_loss: 1.6280e-05 - val_acc: 1.0000\n",
      "Epoch 64/100\n",
      "58011/58011 [==============================] - 9s - loss: 6.3500e-06 - acc: 1.0000 - val_loss: 1.5921e-05 - val_acc: 1.0000\n",
      "Epoch 65/100\n",
      "58011/58011 [==============================] - 9s - loss: 6.2203e-06 - acc: 1.0000 - val_loss: 1.5633e-05 - val_acc: 1.0000\n",
      "Epoch 66/100\n",
      "58011/58011 [==============================] - 7s - loss: 6.0914e-06 - acc: 1.0000 - val_loss: 1.5338e-05 - val_acc: 1.0000\n",
      "Epoch 67/100\n",
      "58011/58011 [==============================] - 10s - loss: 5.9674e-06 - acc: 1.0000 - val_loss: 1.5049e-05 - val_acc: 1.0000\n",
      "Epoch 68/100\n",
      "58011/58011 [==============================] - 11s - loss: 5.8511e-06 - acc: 1.0000 - val_loss: 1.4758e-05 - val_acc: 1.0000\n",
      "Epoch 69/100\n",
      "58011/58011 [==============================] - 9s - loss: 5.7369e-06 - acc: 1.0000 - val_loss: 1.4478e-05 - val_acc: 1.0000\n",
      "Epoch 70/100\n",
      "58011/58011 [==============================] - 10s - loss: 5.6339e-06 - acc: 1.0000 - val_loss: 1.4235e-05 - val_acc: 1.0000\n",
      "Epoch 71/100\n",
      "58011/58011 [==============================] - 9s - loss: 5.5236e-06 - acc: 1.0000 - val_loss: 1.3978e-05 - val_acc: 1.0000\n",
      "Epoch 72/100\n",
      "58011/58011 [==============================] - 11s - loss: 5.4151e-06 - acc: 1.0000 - val_loss: 1.3718e-05 - val_acc: 1.0000\n",
      "Epoch 73/100\n",
      "58011/58011 [==============================] - 9s - loss: 5.3164e-06 - acc: 1.0000 - val_loss: 1.3502e-05 - val_acc: 1.0000\n",
      "Epoch 74/100\n",
      "58011/58011 [==============================] - 9s - loss: 5.2236e-06 - acc: 1.0000 - val_loss: 1.3278e-05 - val_acc: 1.0000\n",
      "Epoch 75/100\n",
      "58011/58011 [==============================] - 9s - loss: 5.1321e-06 - acc: 1.0000 - val_loss: 1.3074e-05 - val_acc: 1.0000\n",
      "Epoch 76/100\n",
      "58011/58011 [==============================] - 9s - loss: 5.0430e-06 - acc: 1.0000 - val_loss: 1.2836e-05 - val_acc: 1.0000\n",
      "Epoch 77/100\n",
      "58011/58011 [==============================] - 9s - loss: 4.9552e-06 - acc: 1.0000 - val_loss: 1.2622e-05 - val_acc: 1.0000\n",
      "Epoch 78/100\n",
      "58011/58011 [==============================] - 9s - loss: 4.8735e-06 - acc: 1.0000 - val_loss: 1.2425e-05 - val_acc: 1.0000\n",
      "Epoch 79/100\n",
      "58011/58011 [==============================] - 8s - loss: 4.7936e-06 - acc: 1.0000 - val_loss: 1.2243e-05 - val_acc: 1.0000\n",
      "Epoch 80/100\n",
      "58011/58011 [==============================] - 8s - loss: 4.7190e-06 - acc: 1.0000 - val_loss: 1.2055e-05 - val_acc: 1.0000\n",
      "Epoch 81/100\n",
      "58011/58011 [==============================] - 9s - loss: 4.6406e-06 - acc: 1.0000 - val_loss: 1.1862e-05 - val_acc: 1.0000\n",
      "Epoch 82/100\n",
      "58011/58011 [==============================] - 9s - loss: 4.5706e-06 - acc: 1.0000 - val_loss: 1.1685e-05 - val_acc: 1.0000\n",
      "Epoch 83/100\n",
      "58011/58011 [==============================] - 9s - loss: 4.4954e-06 - acc: 1.0000 - val_loss: 1.1498e-05 - val_acc: 1.0000\n",
      "Epoch 84/100\n",
      "58011/58011 [==============================] - 10s - loss: 4.4230e-06 - acc: 1.0000 - val_loss: 1.1326e-05 - val_acc: 1.0000\n",
      "Epoch 85/100\n",
      "58011/58011 [==============================] - 9s - loss: 4.3532e-06 - acc: 1.0000 - val_loss: 1.1172e-05 - val_acc: 1.0000\n",
      "Epoch 86/100\n",
      "58011/58011 [==============================] - 8s - loss: 4.2865e-06 - acc: 1.0000 - val_loss: 1.1002e-05 - val_acc: 1.0000\n",
      "Epoch 87/100\n",
      "58011/58011 [==============================] - 10s - loss: 4.2229e-06 - acc: 1.0000 - val_loss: 1.0858e-05 - val_acc: 1.0000\n",
      "Epoch 88/100\n",
      "58011/58011 [==============================] - 10s - loss: 4.1600e-06 - acc: 1.0000 - val_loss: 1.0713e-05 - val_acc: 1.0000\n",
      "Epoch 89/100\n",
      "58011/58011 [==============================] - 9s - loss: 4.1011e-06 - acc: 1.0000 - val_loss: 1.0537e-05 - val_acc: 1.0000\n",
      "Epoch 90/100\n",
      "58011/58011 [==============================] - 10s - loss: 4.0465e-06 - acc: 1.0000 - val_loss: 1.0414e-05 - val_acc: 1.0000\n",
      "Epoch 91/100\n",
      "58011/58011 [==============================] - 9s - loss: 3.9873e-06 - acc: 1.0000 - val_loss: 1.0271e-05 - val_acc: 1.0000\n",
      "Epoch 92/100\n",
      "58011/58011 [==============================] - 9s - loss: 3.9309e-06 - acc: 1.0000 - val_loss: 1.0137e-05 - val_acc: 1.0000\n",
      "Epoch 93/100\n",
      "58011/58011 [==============================] - 10s - loss: 3.8766e-06 - acc: 1.0000 - val_loss: 9.9914e-06 - val_acc: 1.0000\n",
      "Epoch 94/100\n",
      "58011/58011 [==============================] - 9s - loss: 3.8218e-06 - acc: 1.0000 - val_loss: 9.8693e-06 - val_acc: 1.0000\n",
      "Epoch 95/100\n",
      "58011/58011 [==============================] - 10s - loss: 3.7749e-06 - acc: 1.0000 - val_loss: 9.7402e-06 - val_acc: 1.0000\n",
      "Epoch 96/100\n",
      "58011/58011 [==============================] - 11s - loss: 3.7261e-06 - acc: 1.0000 - val_loss: 9.6335e-06 - val_acc: 1.0000\n",
      "Epoch 97/100\n",
      "58011/58011 [==============================] - 10s - loss: 3.6787e-06 - acc: 1.0000 - val_loss: 9.4880e-06 - val_acc: 1.0000\n",
      "Epoch 98/100\n",
      "58011/58011 [==============================] - 11s - loss: 3.6303e-06 - acc: 1.0000 - val_loss: 9.3770e-06 - val_acc: 1.0000\n",
      "Epoch 99/100\n",
      "58011/58011 [==============================] - 9s - loss: 3.5832e-06 - acc: 1.0000 - val_loss: 9.2686e-06 - val_acc: 1.0000\n",
      "Epoch 100/100\n",
      "58011/58011 [==============================] - 8s - loss: 3.5408e-06 - acc: 1.0000 - val_loss: 9.1503e-06 - val_acc: 1.0000\n"
     ]
    },
    {
     "data": {
      "text/plain": [
       "<keras.callbacks.History at 0x1bc646ae780>"
      ]
     },
     "execution_count": 77,
     "metadata": {},
     "output_type": "execute_result"
    }
   ],
   "source": [
    "# Specify the model\n",
    "model = Sequential()\n",
    "model.add(Dense(10, activation='relu', input_shape = (n_cols,)))\n",
    "model.add(Dense(10, activation='relu'))\n",
    "model.add(Dense(10, activation='relu'))\n",
    "model.add(Dense(10, activation='relu'))\n",
    "model.add(Dense(10, activation='relu'))\n",
    "model.add(Dense(4, activation='softmax'))\n",
    "\n",
    "early_stopping_monitor = EarlyStopping(patience=2)\n",
    "\n",
    "# Compile the model\n",
    "sgd = SGD(lr=0.1)#, decay=1e-6, momentum=1.9)\n",
    "model.compile(optimizer=sgd, loss='categorical_crossentropy', metrics=['accuracy'])\n",
    "\n",
    "# Fit the model\n",
    "model.fit(predictors, target, validation_split=0.3, batch_size=64, epochs=100, callbacks=[early_stopping_monitor])\n"
   ]
  },
  {
   "cell_type": "markdown",
   "metadata": {},
   "source": [
    "### Performance evaluation "
   ]
  },
  {
   "cell_type": "code",
   "execution_count": null,
   "metadata": {
    "collapsed": true
   },
   "outputs": [],
   "source": [
    "# Look at the importance and score of the included features\n"
   ]
  },
  {
   "cell_type": "markdown",
   "metadata": {},
   "source": [
    "***\n",
    "## 5. Predict the Test set"
   ]
  },
  {
   "cell_type": "markdown",
   "metadata": {},
   "source": [
    "### Select test model features "
   ]
  },
  {
   "cell_type": "markdown",
   "metadata": {},
   "source": [
    "### Make predictions "
   ]
  },
  {
   "cell_type": "markdown",
   "metadata": {},
   "source": [
    "***\n",
    "## 6. Save Results\n",
    "### Create the Solution "
   ]
  },
  {
   "cell_type": "code",
   "execution_count": null,
   "metadata": {
    "collapsed": true
   },
   "outputs": [],
   "source": [
    "my_solution.index.name"
   ]
  },
  {
   "cell_type": "markdown",
   "metadata": {},
   "source": [
    "### Save to CSV file "
   ]
  },
  {
   "cell_type": "code",
   "execution_count": null,
   "metadata": {
    "collapsed": true
   },
   "outputs": [],
   "source": [
    "my_solution.to_csv(\"my_solution_six.csv\")"
   ]
  },
  {
   "cell_type": "markdown",
   "metadata": {},
   "source": [
    " "
   ]
  },
  {
   "cell_type": "markdown",
   "metadata": {},
   "source": [
    "***\n",
    "***\n",
    "# Rough Work "
   ]
  },
  {
   "cell_type": "code",
   "execution_count": null,
   "metadata": {
    "collapsed": true
   },
   "outputs": [],
   "source": [
    "%matplotlib inline"
   ]
  },
  {
   "cell_type": "code",
   "execution_count": null,
   "metadata": {
    "collapsed": true
   },
   "outputs": [],
   "source": []
  }
 ],
 "metadata": {
  "kernelspec": {
   "display_name": "Python 3",
   "language": "python",
   "name": "python3"
  },
  "language_info": {
   "codemirror_mode": {
    "name": "ipython",
    "version": 3
   },
   "file_extension": ".py",
   "mimetype": "text/x-python",
   "name": "python",
   "nbconvert_exporter": "python",
   "pygments_lexer": "ipython3",
   "version": "3.5.4"
  }
 },
 "nbformat": 4,
 "nbformat_minor": 2
}
