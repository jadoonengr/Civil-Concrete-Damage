{
 "cells": [
  {
   "cell_type": "markdown",
   "metadata": {},
   "source": [
    "# Civil Engineering Machine Learning Project\n",
    "## Damage evaluation of reinforced concrete beams with varying thickness using the acoustic emission technique\n"
   ]
  },
  {
   "cell_type": "markdown",
   "metadata": {},
   "source": [
    "***\n",
    "## 1. Data Extraction"
   ]
  },
  {
   "cell_type": "code",
   "execution_count": 64,
   "metadata": {},
   "outputs": [],
   "source": [
    "\"\"\"\n",
    "Created on Tue Jul 18 03:12:39 2017\n",
    "\n",
    "@author: Aamir\n",
    "\"\"\"\n",
    "%matplotlib inline"
   ]
  },
  {
   "cell_type": "markdown",
   "metadata": {},
   "source": [
    "### Import Libraries"
   ]
  },
  {
   "cell_type": "code",
   "execution_count": 109,
   "metadata": {},
   "outputs": [],
   "source": [
    "\n",
    "import os\n",
    "import scipy.io\n",
    "import numpy as np\n",
    "import pandas as pd\n",
    "\n",
    "import keras\n",
    "from keras.layers import Dense\n",
    "from keras.models import Sequential\n",
    "from keras.models import load_model\n",
    "from keras.optimizers import SGD\n",
    "from keras.callbacks import EarlyStopping\n",
    "\n",
    "from sklearn.model_selection import train_test_split\n",
    "from sklearn.pipeline import make_pipeline\n",
    "from sklearn.ensemble import RandomForestRegressor\n",
    "from sklearn.feature_selection import SelectFromModel\n",
    "from sklearn.feature_selection import SelectKBest\n",
    "from sklearn.cross_validation import StratifiedKFold\n",
    "from sklearn.grid_search import GridSearchCV\n",
    "from sklearn.ensemble.gradient_boosting import GradientBoostingClassifier\n",
    "from sklearn.cross_validation import cross_val_score\n",
    "from sklearn.metrics import accuracy_score\n",
    "import xgboost as xgb\n",
    "\n",
    "from IPython.display import SVG\n",
    "import matplotlib.pyplot as plt"
   ]
  },
  {
   "cell_type": "code",
   "execution_count": 66,
   "metadata": {
    "collapsed": true
   },
   "outputs": [],
   "source": [
    "# fix random seed for reproducibility\n",
    "seed = 7\n",
    "np.random.seed(seed)"
   ]
  },
  {
   "cell_type": "markdown",
   "metadata": {},
   "source": [
    "### Import and select relevant data "
   ]
  },
  {
   "cell_type": "code",
   "execution_count": 67,
   "metadata": {
    "collapsed": true
   },
   "outputs": [],
   "source": [
    "data = pd.read_excel(\"concrete-damage-data.xlsx\")\n",
    "data = data.iloc[:,[4, 5, 6, 7, 8, 9, 10, 17, 18, 19]]\n",
    "data = data.dropna()\n",
    "data.reset_index(drop=True,inplace=True)"
   ]
  },
  {
   "cell_type": "markdown",
   "metadata": {},
   "source": [
    "### Check data frame structure "
   ]
  },
  {
   "cell_type": "code",
   "execution_count": 68,
   "metadata": {},
   "outputs": [
    {
     "data": {
      "text/plain": [
       "(82873, 10)"
      ]
     },
     "execution_count": 68,
     "metadata": {},
     "output_type": "execute_result"
    }
   ],
   "source": [
    "data.shape"
   ]
  },
  {
   "cell_type": "code",
   "execution_count": 69,
   "metadata": {
    "scrolled": true
   },
   "outputs": [
    {
     "data": {
      "text/plain": [
       "CH              object\n",
       "RISE            object\n",
       "COUN            object\n",
       "ENER            object\n",
       "DURATION        object\n",
       "AMP             object\n",
       "A_FRQ           object\n",
       "SIG_STRNGTH     object\n",
       "ABS_ENERGY      object\n",
       "DAMAGE         float64\n",
       "dtype: object"
      ]
     },
     "execution_count": 69,
     "metadata": {},
     "output_type": "execute_result"
    }
   ],
   "source": [
    "data.dtypes"
   ]
  },
  {
   "cell_type": "code",
   "execution_count": 70,
   "metadata": {},
   "outputs": [
    {
     "data": {
      "text/html": [
       "<div>\n",
       "<style>\n",
       "    .dataframe thead tr:only-child th {\n",
       "        text-align: right;\n",
       "    }\n",
       "\n",
       "    .dataframe thead th {\n",
       "        text-align: left;\n",
       "    }\n",
       "\n",
       "    .dataframe tbody tr th {\n",
       "        vertical-align: top;\n",
       "    }\n",
       "</style>\n",
       "<table border=\"1\" class=\"dataframe\">\n",
       "  <thead>\n",
       "    <tr style=\"text-align: right;\">\n",
       "      <th></th>\n",
       "      <th>CH</th>\n",
       "      <th>RISE</th>\n",
       "      <th>COUN</th>\n",
       "      <th>ENER</th>\n",
       "      <th>DURATION</th>\n",
       "      <th>AMP</th>\n",
       "      <th>A_FRQ</th>\n",
       "      <th>SIG_STRNGTH</th>\n",
       "      <th>ABS_ENERGY</th>\n",
       "      <th>DAMAGE</th>\n",
       "    </tr>\n",
       "  </thead>\n",
       "  <tbody>\n",
       "    <tr>\n",
       "      <th>0</th>\n",
       "      <td>4</td>\n",
       "      <td>9</td>\n",
       "      <td>5</td>\n",
       "      <td>2</td>\n",
       "      <td>114</td>\n",
       "      <td>52</td>\n",
       "      <td>44</td>\n",
       "      <td>14372</td>\n",
       "      <td>260.846</td>\n",
       "      <td>0.0</td>\n",
       "    </tr>\n",
       "    <tr>\n",
       "      <th>1</th>\n",
       "      <td>3</td>\n",
       "      <td>1</td>\n",
       "      <td>1</td>\n",
       "      <td>0</td>\n",
       "      <td>1</td>\n",
       "      <td>45</td>\n",
       "      <td>1000</td>\n",
       "      <td>115.9</td>\n",
       "      <td>2.124</td>\n",
       "      <td>0.0</td>\n",
       "    </tr>\n",
       "    <tr>\n",
       "      <th>2</th>\n",
       "      <td>3</td>\n",
       "      <td>23</td>\n",
       "      <td>3</td>\n",
       "      <td>1</td>\n",
       "      <td>69</td>\n",
       "      <td>48</td>\n",
       "      <td>43</td>\n",
       "      <td>7241</td>\n",
       "      <td>107.876</td>\n",
       "      <td>0.0</td>\n",
       "    </tr>\n",
       "    <tr>\n",
       "      <th>3</th>\n",
       "      <td>4</td>\n",
       "      <td>1</td>\n",
       "      <td>2</td>\n",
       "      <td>1</td>\n",
       "      <td>79</td>\n",
       "      <td>46</td>\n",
       "      <td>25</td>\n",
       "      <td>7024</td>\n",
       "      <td>85.976</td>\n",
       "      <td>0.0</td>\n",
       "    </tr>\n",
       "    <tr>\n",
       "      <th>4</th>\n",
       "      <td>3</td>\n",
       "      <td>22</td>\n",
       "      <td>3</td>\n",
       "      <td>1</td>\n",
       "      <td>86</td>\n",
       "      <td>48</td>\n",
       "      <td>35</td>\n",
       "      <td>9022</td>\n",
       "      <td>133.646</td>\n",
       "      <td>0.0</td>\n",
       "    </tr>\n",
       "  </tbody>\n",
       "</table>\n",
       "</div>"
      ],
      "text/plain": [
       "  CH RISE COUN ENER DURATION AMP A_FRQ SIG_STRNGTH ABS_ENERGY  DAMAGE\n",
       "0  4    9    5    2      114  52    44       14372    260.846     0.0\n",
       "1  3    1    1    0        1  45  1000       115.9      2.124     0.0\n",
       "2  3   23    3    1       69  48    43        7241    107.876     0.0\n",
       "3  4    1    2    1       79  46    25        7024     85.976     0.0\n",
       "4  3   22    3    1       86  48    35        9022    133.646     0.0"
      ]
     },
     "execution_count": 70,
     "metadata": {},
     "output_type": "execute_result"
    }
   ],
   "source": [
    "data.head()"
   ]
  },
  {
   "cell_type": "markdown",
   "metadata": {},
   "source": [
    "***\n",
    "## 2. Data Cleaning\n",
    "### Check and fill missing values "
   ]
  },
  {
   "cell_type": "code",
   "execution_count": 71,
   "metadata": {},
   "outputs": [
    {
     "data": {
      "text/plain": [
       "CH             82873\n",
       "RISE           82873\n",
       "COUN           82873\n",
       "ENER           82873\n",
       "DURATION       82873\n",
       "AMP            82873\n",
       "A_FRQ          82873\n",
       "SIG_STRNGTH    82873\n",
       "ABS_ENERGY     82873\n",
       "DAMAGE         82873\n",
       "dtype: int64"
      ]
     },
     "execution_count": 71,
     "metadata": {},
     "output_type": "execute_result"
    }
   ],
   "source": [
    "data.count()"
   ]
  },
  {
   "cell_type": "markdown",
   "metadata": {},
   "source": [
    "No missing data. Incomplete entries have already been removed."
   ]
  },
  {
   "cell_type": "markdown",
   "metadata": {},
   "source": [
    "### Convert to numeric columns "
   ]
  },
  {
   "cell_type": "code",
   "execution_count": 72,
   "metadata": {},
   "outputs": [
    {
     "data": {
      "text/plain": [
       "CH               int32\n",
       "RISE             int32\n",
       "COUN             int32\n",
       "ENER             int32\n",
       "DURATION         int32\n",
       "AMP              int32\n",
       "A_FRQ            int32\n",
       "SIG_STRNGTH    float64\n",
       "ABS_ENERGY     float64\n",
       "DAMAGE           int32\n",
       "dtype: object"
      ]
     },
     "execution_count": 72,
     "metadata": {},
     "output_type": "execute_result"
    }
   ],
   "source": [
    "data['CH'] = data['CH'].astype(int)\n",
    "data['RISE'] = data['RISE'].astype(int)\n",
    "data['COUN'] = data['COUN'].astype(int)\n",
    "data['ENER'] = data['ENER'].astype(int)\n",
    "data['DURATION'] = data['DURATION'].astype(int)\n",
    "data['AMP'] = data['AMP'].astype(int)\n",
    "data['A_FRQ'] = data['A_FRQ'].astype(int)\n",
    "data['SIG_STRNGTH'] = data['SIG_STRNGTH'].astype(float)\n",
    "data['ABS_ENERGY'] = data['ABS_ENERGY'].astype(float)\n",
    "data['DAMAGE'] = data['DAMAGE'].astype(int)\n",
    "\n",
    "data.dtypes"
   ]
  },
  {
   "cell_type": "code",
   "execution_count": 73,
   "metadata": {
    "collapsed": true
   },
   "outputs": [],
   "source": [
    "# data.to_excel(\"Aamirdata.xlsx\")"
   ]
  },
  {
   "cell_type": "markdown",
   "metadata": {},
   "source": [
    "### Normalize Data"
   ]
  },
  {
   "cell_type": "code",
   "execution_count": 74,
   "metadata": {
    "collapsed": true
   },
   "outputs": [],
   "source": [
    "# mn = pd.DataFrame.mean(data)\n",
    "# vr = pd.DataFrame.var(data)\n",
    "\n",
    "# data.RISE = (data.RISE - mn.RISE) / vr.RISE\n",
    "# data.COUN = (data.COUN - mn.COUN) / vr.COUN\n",
    "# data.ENER = (data.ENER - mn.ENER) / vr.ENER\n",
    "# data.DURATION = (data.DURATION - mn.DURATION) / vr.DURATION\n",
    "# data.AMP = (data.AMP - mn.AMP) / vr.AMP\n",
    "# data.A_FRQ = (data.A_FRQ - mn.A_FRQ) / vr.A_FRQ\n",
    "# data.SIG_STRNGTH = (data.SIG_STRNGTH - mn.SIG_STRNGTH) / vr.SIG_STRNGTH\n",
    "# data.ABS_ENERGY = (data.ABS_ENERGY - mn.ABS_ENERGY) / vr.ABS_ENERGY"
   ]
  },
  {
   "cell_type": "code",
   "execution_count": 75,
   "metadata": {},
   "outputs": [],
   "source": [
    "#X = np.array(data.iloc[:,0:9])\n",
    "X = data.iloc[:,0:9]\n",
    "y = data['DAMAGE']"
   ]
  },
  {
   "cell_type": "markdown",
   "metadata": {},
   "source": [
    "Split Train/Test Sets"
   ]
  },
  {
   "cell_type": "code",
   "execution_count": 87,
   "metadata": {
    "collapsed": true
   },
   "outputs": [],
   "source": [
    "X_train, X_valid, y_train, y_valid = train_test_split(X, y, test_size=0.2)"
   ]
  },
  {
   "cell_type": "code",
   "execution_count": 88,
   "metadata": {},
   "outputs": [
    {
     "data": {
      "text/plain": [
       "((66298, 9), (16575, 9), (66298,), (16575,))"
      ]
     },
     "execution_count": 88,
     "metadata": {},
     "output_type": "execute_result"
    }
   ],
   "source": [
    "X_train.shape, X_test.shape, y_train.shape, y_test.shape"
   ]
  },
  {
   "cell_type": "markdown",
   "metadata": {},
   "source": [
    "***\n",
    "## 3. Train and Evaluate the Model"
   ]
  },
  {
   "cell_type": "markdown",
   "metadata": {},
   "source": [
    "### XGBoost MODEL"
   ]
  },
  {
   "cell_type": "markdown",
   "metadata": {},
   "source": [
    "### XGBoost Setup"
   ]
  },
  {
   "cell_type": "code",
   "execution_count": 90,
   "metadata": {},
   "outputs": [],
   "source": [
    "# Specify the model\n",
    "dtrain = xgb.DMatrix(X_train, label=y_train)\n",
    "dvalid = xgb.DMatrix(X_valid, label=y_valid)\n",
    "dtest = xgb.DMatrix(X)\n",
    "watchlist = [(dtrain, 'train'), (dvalid, 'valid')]"
   ]
  },
  {
   "cell_type": "markdown",
   "metadata": {},
   "source": [
    "### XGBoost training and evaluation"
   ]
  },
  {
   "cell_type": "code",
   "execution_count": 91,
   "metadata": {},
   "outputs": [
    {
     "name": "stdout",
     "output_type": "stream",
     "text": [
      "[0]\ttrain-rmse:1.79598\tvalid-rmse:1.80237\n",
      "Multiple eval metrics have been passed: 'valid-rmse' will be used for early stopping.\n",
      "\n",
      "Will train until valid-rmse hasn't improved in 10 rounds.\n",
      "[1]\ttrain-rmse:1.63583\tvalid-rmse:1.64219\n",
      "[2]\ttrain-rmse:1.49338\tvalid-rmse:1.49979\n",
      "[3]\ttrain-rmse:1.36725\tvalid-rmse:1.37377\n",
      "[4]\ttrain-rmse:1.25553\tvalid-rmse:1.2623\n",
      "[5]\ttrain-rmse:1.15719\tvalid-rmse:1.1641\n",
      "[6]\ttrain-rmse:1.07079\tvalid-rmse:1.07794\n",
      "[7]\ttrain-rmse:0.995138\tvalid-rmse:1.00272\n",
      "[8]\ttrain-rmse:0.929053\tvalid-rmse:0.937335\n",
      "[9]\ttrain-rmse:0.871763\tvalid-rmse:0.880426\n",
      "[10]\ttrain-rmse:0.82244\tvalid-rmse:0.831516\n",
      "[11]\ttrain-rmse:0.779888\tvalid-rmse:0.789517\n",
      "[12]\ttrain-rmse:0.743719\tvalid-rmse:0.753842\n",
      "[13]\ttrain-rmse:0.712978\tvalid-rmse:0.723628\n",
      "[14]\ttrain-rmse:0.68665\tvalid-rmse:0.697974\n",
      "[15]\ttrain-rmse:0.664298\tvalid-rmse:0.676505\n",
      "[16]\ttrain-rmse:0.645711\tvalid-rmse:0.658518\n",
      "[17]\ttrain-rmse:0.630026\tvalid-rmse:0.643443\n",
      "[18]\ttrain-rmse:0.617101\tvalid-rmse:0.630893\n",
      "[19]\ttrain-rmse:0.606535\tvalid-rmse:0.620586\n",
      "[20]\ttrain-rmse:0.597337\tvalid-rmse:0.612\n",
      "[21]\ttrain-rmse:0.589933\tvalid-rmse:0.604918\n",
      "[22]\ttrain-rmse:0.583417\tvalid-rmse:0.599196\n",
      "[23]\ttrain-rmse:0.578225\tvalid-rmse:0.59447\n",
      "[24]\ttrain-rmse:0.574106\tvalid-rmse:0.590576\n",
      "[25]\ttrain-rmse:0.570553\tvalid-rmse:0.587355\n",
      "[26]\ttrain-rmse:0.567564\tvalid-rmse:0.584758\n",
      "[27]\ttrain-rmse:0.565256\tvalid-rmse:0.582605\n",
      "[28]\ttrain-rmse:0.563106\tvalid-rmse:0.580792\n",
      "[29]\ttrain-rmse:0.561621\tvalid-rmse:0.579383\n",
      "[30]\ttrain-rmse:0.560262\tvalid-rmse:0.578197\n",
      "[31]\ttrain-rmse:0.559194\tvalid-rmse:0.5772\n",
      "[32]\ttrain-rmse:0.55838\tvalid-rmse:0.576434\n",
      "[33]\ttrain-rmse:0.557434\tvalid-rmse:0.575807\n",
      "[34]\ttrain-rmse:0.55677\tvalid-rmse:0.57523\n",
      "[35]\ttrain-rmse:0.555628\tvalid-rmse:0.574861\n",
      "[36]\ttrain-rmse:0.55457\tvalid-rmse:0.574598\n",
      "[37]\ttrain-rmse:0.554027\tvalid-rmse:0.574309\n",
      "[38]\ttrain-rmse:0.553587\tvalid-rmse:0.574102\n",
      "[39]\ttrain-rmse:0.553333\tvalid-rmse:0.573902\n",
      "[40]\ttrain-rmse:0.552616\tvalid-rmse:0.573637\n",
      "[41]\ttrain-rmse:0.552089\tvalid-rmse:0.573513\n",
      "[42]\ttrain-rmse:0.551464\tvalid-rmse:0.573514\n",
      "[43]\ttrain-rmse:0.551207\tvalid-rmse:0.573436\n",
      "[44]\ttrain-rmse:0.551002\tvalid-rmse:0.573389\n",
      "[45]\ttrain-rmse:0.550695\tvalid-rmse:0.573324\n",
      "[46]\ttrain-rmse:0.550567\tvalid-rmse:0.573294\n",
      "[47]\ttrain-rmse:0.550398\tvalid-rmse:0.573251\n",
      "[48]\ttrain-rmse:0.549949\tvalid-rmse:0.573148\n",
      "[49]\ttrain-rmse:0.549442\tvalid-rmse:0.573145\n",
      "[50]\ttrain-rmse:0.548991\tvalid-rmse:0.573058\n",
      "[51]\ttrain-rmse:0.548846\tvalid-rmse:0.573057\n",
      "[52]\ttrain-rmse:0.54869\tvalid-rmse:0.573012\n",
      "[53]\ttrain-rmse:0.548298\tvalid-rmse:0.572972\n",
      "[54]\ttrain-rmse:0.547694\tvalid-rmse:0.572978\n",
      "[55]\ttrain-rmse:0.547578\tvalid-rmse:0.57294\n",
      "[56]\ttrain-rmse:0.547288\tvalid-rmse:0.572903\n",
      "[57]\ttrain-rmse:0.546867\tvalid-rmse:0.572866\n",
      "[58]\ttrain-rmse:0.546679\tvalid-rmse:0.5729\n",
      "[59]\ttrain-rmse:0.5466\tvalid-rmse:0.572922\n",
      "[60]\ttrain-rmse:0.546231\tvalid-rmse:0.572887\n",
      "[61]\ttrain-rmse:0.545921\tvalid-rmse:0.572907\n",
      "[62]\ttrain-rmse:0.545413\tvalid-rmse:0.572966\n",
      "[63]\ttrain-rmse:0.545304\tvalid-rmse:0.572985\n",
      "[64]\ttrain-rmse:0.545021\tvalid-rmse:0.572977\n",
      "[65]\ttrain-rmse:0.544891\tvalid-rmse:0.572969\n",
      "[66]\ttrain-rmse:0.544627\tvalid-rmse:0.572921\n",
      "[67]\ttrain-rmse:0.54442\tvalid-rmse:0.572955\n",
      "Stopping. Best iteration:\n",
      "[57]\ttrain-rmse:0.546867\tvalid-rmse:0.572866\n",
      "\n",
      "Modeling RMSLE 0.57287\n"
     ]
    }
   ],
   "source": [
    "xgb_pars = {'min_child_weight': 50, 'eta': 0.1, 'colsample_bytree': 0.9, 'max_depth': 10,\n",
    "'subsample': 0.9, 'lambda': 1., 'nthread': -1, 'booster' : 'gbtree', 'silent': 1,\n",
    "'eval_metric': 'rmse', 'objective': 'reg:linear'}\n",
    "\n",
    "model = xgb.train(xgb_pars, dtrain, 1000, watchlist, early_stopping_rounds=10,\n",
    "      maximize=False, verbose_eval=1)\n",
    "\n",
    "print('Modeling RMSLE %.5f' % model.best_score)"
   ]
  },
  {
   "cell_type": "code",
   "execution_count": 104,
   "metadata": {},
   "outputs": [
    {
     "name": "stdout",
     "output_type": "stream",
     "text": [
      "RandomForestClassifier(bootstrap=False, class_weight=None, criterion='gini',\n",
      "            max_depth=6, max_features='sqrt', max_leaf_nodes=None,\n",
      "            min_impurity_decrease=0.0, min_impurity_split=None,\n",
      "            min_samples_leaf=3, min_samples_split=10,\n",
      "            min_weight_fraction_leaf=0.0, n_estimators=50, n_jobs=1,\n",
      "            oob_score=False, random_state=None, verbose=0,\n",
      "            warm_start=False)\n"
     ]
    }
   ],
   "source": [
    "print(model)"
   ]
  },
  {
   "cell_type": "markdown",
   "metadata": {},
   "source": [
    "### Train/Validation Set Evaluation "
   ]
  },
  {
   "cell_type": "code",
   "execution_count": 92,
   "metadata": {
    "scrolled": true
   },
   "outputs": [
    {
     "data": {
      "text/plain": [
       "<matplotlib.axes._subplots.AxesSubplot at 0x270b0254588>"
      ]
     },
     "execution_count": 92,
     "metadata": {},
     "output_type": "execute_result"
    },
    {
     "data": {
      "image/png": "[encoded data removed]",
      "text/plain": [
       "<matplotlib.figure.Figure at 0x270b9772be0>"
      ]
     },
     "metadata": {},
     "output_type": "display_data"
    }
   ],
   "source": [
    "xgb.plot_importance(model, height=0.3)"
   ]
  },
  {
   "cell_type": "markdown",
   "metadata": {},
   "source": [
    "### Prediction"
   ]
  },
  {
   "cell_type": "code",
   "execution_count": 93,
   "metadata": {},
   "outputs": [],
   "source": [
    "# evaluate the model\n",
    "pred = model.predict(dtest)\n",
    "pred = np.exp(pred) - 1"
   ]
  },
  {
   "cell_type": "code",
   "execution_count": 94,
   "metadata": {},
   "outputs": [
    {
     "data": {
      "text/plain": [
       "array([ 10.17860794,   9.59091282,   9.64553165, ...,   9.9689846 ,\n",
       "        10.10915089,  10.32638264], dtype=float32)"
      ]
     },
     "execution_count": 94,
     "metadata": {},
     "output_type": "execute_result"
    }
   ],
   "source": [
    "pred"
   ]
  },
  {
   "cell_type": "code",
   "execution_count": null,
   "metadata": {
    "collapsed": true
   },
   "outputs": [],
   "source": []
  },
  {
   "cell_type": "code",
   "execution_count": null,
   "metadata": {
    "collapsed": true
   },
   "outputs": [],
   "source": []
  },
  {
   "cell_type": "code",
   "execution_count": 114,
   "metadata": {},
   "outputs": [
    {
     "data": {
      "text/plain": [
       "XGBClassifier(base_score=0.5, colsample_bylevel=1, colsample_bytree=1,\n",
       "       gamma=0, learning_rate=0.1, max_delta_step=0, max_depth=3,\n",
       "       min_child_weight=1, missing=None, n_estimators=100, nthread=-1,\n",
       "       objective='multi:softprob', reg_alpha=0, reg_lambda=1,\n",
       "       scale_pos_weight=1, seed=0, silent=True, subsample=1)"
      ]
     },
     "execution_count": 114,
     "metadata": {},
     "output_type": "execute_result"
    }
   ],
   "source": [
    "# fit model no training data\n",
    "model = xgb.XGBClassifier()\n",
    "model.fit(X_train, y_train)"
   ]
  },
  {
   "cell_type": "code",
   "execution_count": 115,
   "metadata": {
    "collapsed": true
   },
   "outputs": [],
   "source": [
    "# make predictions for test data\n",
    "y_pred = model.predict(X_valid)\n",
    "predictions = [round(value) for value in y_pred]"
   ]
  },
  {
   "cell_type": "code",
   "execution_count": 116,
   "metadata": {},
   "outputs": [
    {
     "name": "stdout",
     "output_type": "stream",
     "text": [
      "Accuracy: 56.63%\n"
     ]
    }
   ],
   "source": [
    "# evaluate predictions\n",
    "accuracy = accuracy_score(y_valid, predictions)\n",
    "print(\"Accuracy: %.2f%%\" % (accuracy * 100.0))"
   ]
  },
  {
   "cell_type": "code",
   "execution_count": null,
   "metadata": {
    "collapsed": true
   },
   "outputs": [],
   "source": []
  },
  {
   "cell_type": "code",
   "execution_count": null,
   "metadata": {
    "collapsed": true
   },
   "outputs": [],
   "source": []
  },
  {
   "cell_type": "markdown",
   "metadata": {},
   "source": [
    "### RandomTreeClassifier MODEL"
   ]
  },
  {
   "cell_type": "markdown",
   "metadata": {},
   "source": [
    "### Check feature importance"
   ]
  },
  {
   "cell_type": "code",
   "execution_count": 95,
   "metadata": {
    "collapsed": true
   },
   "outputs": [],
   "source": [
    "clf = RandomForestClassifier(n_estimators=50, max_features='sqrt')\n",
    "clf = clf.fit(X,y)"
   ]
  },
  {
   "cell_type": "code",
   "execution_count": 97,
   "metadata": {},
   "outputs": [],
   "source": [
    "features = pd.DataFrame()\n",
    "features['feature'] = X.columns\n",
    "features['importance'] = clf.feature_importances_\n",
    "features.sort_values(by=['importance'], ascending=True, inplace=True)\n",
    "features.set_index('feature', inplace=True)"
   ]
  },
  {
   "cell_type": "code",
   "execution_count": 98,
   "metadata": {},
   "outputs": [
    {
     "data": {
      "text/plain": [
       "<matplotlib.axes._subplots.AxesSubplot at 0x270adfd59e8>"
      ]
     },
     "execution_count": 98,
     "metadata": {},
     "output_type": "execute_result"
    },
    {
     "data": {
      "image/png": "[encoded data removed]",
      "text/plain": [
       "<matplotlib.figure.Figure at 0x270adfce208>"
      ]
     },
     "metadata": {},
     "output_type": "display_data"
    }
   ],
   "source": [
    "features.plot(kind='barh', figsize=(20, 20))"
   ]
  },
  {
   "cell_type": "markdown",
   "metadata": {},
   "source": [
    "### Hyperparameter tuning"
   ]
  },
  {
   "cell_type": "code",
   "execution_count": 100,
   "metadata": {},
   "outputs": [
    {
     "data": {
      "text/plain": [
       "RandomForestClassifier(bootstrap=False, class_weight=None, criterion='gini',\n",
       "            max_depth=6, max_features='sqrt', max_leaf_nodes=None,\n",
       "            min_impurity_decrease=0.0, min_impurity_split=None,\n",
       "            min_samples_leaf=3, min_samples_split=10,\n",
       "            min_weight_fraction_leaf=0.0, n_estimators=50, n_jobs=1,\n",
       "            oob_score=False, random_state=None, verbose=0,\n",
       "            warm_start=False)"
      ]
     },
     "execution_count": 100,
     "metadata": {},
     "output_type": "execute_result"
    }
   ],
   "source": [
    "parameters = {'bootstrap': False, 'min_samples_leaf': 3, 'n_estimators': 50,\n",
    "'min_samples_split': 10, 'max_features': 'sqrt', 'max_depth': 6}\n",
    "model = RandomForestClassifier(**parameters)\n",
    "model.fit(X_train, y_train)"
   ]
  },
  {
   "cell_type": "code",
   "execution_count": 103,
   "metadata": {},
   "outputs": [
    {
     "data": {
      "text/plain": [
       "0.55837236004412993"
      ]
     },
     "execution_count": 103,
     "metadata": {},
     "output_type": "execute_result"
    }
   ],
   "source": [
    "xval = cross_val_score(model, X_valid, y_valid, cv = 5, scoring='accuracy')\n",
    "np.mean(xval)"
   ]
  },
  {
   "cell_type": "code",
   "execution_count": null,
   "metadata": {
    "collapsed": true
   },
   "outputs": [],
   "source": []
  },
  {
   "cell_type": "code",
   "execution_count": null,
   "metadata": {
    "collapsed": true
   },
   "outputs": [],
   "source": []
  },
  {
   "cell_type": "markdown",
   "metadata": {},
   "source": [
    "***\n",
    "## 5. Predict the Test set"
   ]
  },
  {
   "cell_type": "markdown",
   "metadata": {},
   "source": [
    "### Select test model features "
   ]
  },
  {
   "cell_type": "markdown",
   "metadata": {},
   "source": [
    "### Make predictions "
   ]
  },
  {
   "cell_type": "markdown",
   "metadata": {},
   "source": [
    "***\n",
    "## 6. Save Results\n",
    "### Create the Solution "
   ]
  },
  {
   "cell_type": "code",
   "execution_count": null,
   "metadata": {
    "collapsed": true
   },
   "outputs": [],
   "source": [
    "my_solution.index.name"
   ]
  },
  {
   "cell_type": "markdown",
   "metadata": {},
   "source": [
    "### Save to CSV file "
   ]
  },
  {
   "cell_type": "code",
   "execution_count": null,
   "metadata": {
    "collapsed": true
   },
   "outputs": [],
   "source": [
    "my_solution.to_csv(\"my_solution_six.csv\")"
   ]
  },
  {
   "cell_type": "markdown",
   "metadata": {},
   "source": [
    " "
   ]
  },
  {
   "cell_type": "markdown",
   "metadata": {},
   "source": [
    "***\n",
    "***\n",
    "# Rough Work "
   ]
  },
  {
   "cell_type": "code",
   "execution_count": null,
   "metadata": {
    "collapsed": true
   },
   "outputs": [],
   "source": [
    "%matplotlib inline"
   ]
  },
  {
   "cell_type": "code",
   "execution_count": null,
   "metadata": {
    "collapsed": true
   },
   "outputs": [],
   "source": []
  }
 ],
 "metadata": {
  "kernelspec": {
   "display_name": "Python 3",
   "language": "python",
   "name": "python3"
  },
  "language_info": {
   "codemirror_mode": {
    "name": "ipython",
    "version": 3
   },
   "file_extension": ".py",
   "mimetype": "text/x-python",
   "name": "python",
   "nbconvert_exporter": "python",
   "pygments_lexer": "ipython3",
   "version": "3.5.4"
  }
 },
 "nbformat": 4,
 "nbformat_minor": 2
}
